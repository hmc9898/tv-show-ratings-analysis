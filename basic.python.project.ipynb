{
 "cells": [
  {
   "cell_type": "markdown",
   "id": "f85a80d2",
   "metadata": {},
   "source": [
    "## Basic Python - Project <a id='intro'></a>"
   ]
  },
  {
   "cell_type": "markdown",
   "id": "a1262df4",
   "metadata": {},
   "source": [
    "## Introduction <a id='intro'></a>\n",
    "In this project, you will work with data from the entertainment industry. You will study a dataset with records on movies and shows. The research will focus on the \"Golden Age\" of television, which began in 1999 with the release of *The Sopranos* and is still ongoing.\n",
    "\n",
    "The aim of this project is to investigate how the number of votes a title receives impacts its ratings. The assumption is that highly-rated shows (we will focus on TV shows, ignoring movies) released during the \"Golden Age\" of television also have the most votes.\n",
    "\n",
    "### Stages \n",
    "Data on movies and shows is stored in the `/datasets/movies_and_shows.csv` file. There is no information about the quality of the data, so you will need to explore it before doing the analysis.\n",
    "\n",
    "First, you'll evaluate the quality of the data and see whether its issues are significant. Then, during data preprocessing, you will try to account for the most critical problems.\n",
    " \n",
    "Your project will consist of three stages:\n",
    " 1. Data overview\n",
    " 2. Data preprocessing\n",
    " 3. Data analysis"
   ]
  },
  {
   "cell_type": "markdown",
   "id": "ac0593ac",
   "metadata": {},
   "source": [
    "## Stage 1. Data overview <a id='data_review'></a>\n",
    "\n",
    "Open and explore the data."
   ]
  },
  {
   "cell_type": "markdown",
   "id": "e86ed00e",
   "metadata": {},
   "source": [
    "You'll need `pandas`, so import it."
   ]
  },
  {
   "cell_type": "code",
   "execution_count": null,
   "id": "1727d3f8",
   "metadata": {},
   "outputs": [],
   "source": [
    "# importing pandas\n",
    "import pandas as pd"
   ]
  },
  {
   "cell_type": "markdown",
   "id": "9821beeb",
   "metadata": {},
   "source": [
    "Read the `movies_and_shows.csv` file from the `datasets` folder and save it in the `df` variable:"
   ]
  },
  {
   "cell_type": "code",
   "execution_count": null,
   "id": "fc5a1402",
   "metadata": {},
   "outputs": [],
   "source": [
    "# reading the files and storing them to df\n",
    "df = pd.read_csv('/datasets/movies_and_shows.csv')"
   ]
  },
  {
   "cell_type": "markdown",
   "id": "1cd0a96d",
   "metadata": {},
   "source": [
    "Print the first 10 table rows:"
   ]
  },
  {
   "cell_type": "code",
   "execution_count": null,
   "id": "acd92001",
   "metadata": {},
   "outputs": [
    {
     "data": {
      "text/html": [
       "<div>\n",
       "<style scoped>\n",
       "    .dataframe tbody tr th:only-of-type {\n",
       "        vertical-align: middle;\n",
       "    }\n",
       "\n",
       "    .dataframe tbody tr th {\n",
       "        vertical-align: top;\n",
       "    }\n",
       "\n",
       "    .dataframe thead th {\n",
       "        text-align: right;\n",
       "    }\n",
       "</style>\n",
       "<table border=\"1\" class=\"dataframe\">\n",
       "  <thead>\n",
       "    <tr style=\"text-align: right;\">\n",
       "      <th></th>\n",
       "      <th>name</th>\n",
       "      <th>Character</th>\n",
       "      <th>r0le</th>\n",
       "      <th>TITLE</th>\n",
       "      <th>Type</th>\n",
       "      <th>release Year</th>\n",
       "      <th>genres</th>\n",
       "      <th>imdb sc0re</th>\n",
       "      <th>imdb v0tes</th>\n",
       "    </tr>\n",
       "  </thead>\n",
       "  <tbody>\n",
       "    <tr>\n",
       "      <th>0</th>\n",
       "      <td>Robert De Niro</td>\n",
       "      <td>Travis Bickle</td>\n",
       "      <td>ACTOR</td>\n",
       "      <td>Taxi Driver</td>\n",
       "      <td>MOVIE</td>\n",
       "      <td>1976</td>\n",
       "      <td>['drama', 'crime']</td>\n",
       "      <td>8.2</td>\n",
       "      <td>808582.0</td>\n",
       "    </tr>\n",
       "    <tr>\n",
       "      <th>1</th>\n",
       "      <td>Jodie Foster</td>\n",
       "      <td>Iris Steensma</td>\n",
       "      <td>ACTOR</td>\n",
       "      <td>Taxi Driver</td>\n",
       "      <td>MOVIE</td>\n",
       "      <td>1976</td>\n",
       "      <td>['drama', 'crime']</td>\n",
       "      <td>8.2</td>\n",
       "      <td>808582.0</td>\n",
       "    </tr>\n",
       "    <tr>\n",
       "      <th>2</th>\n",
       "      <td>Albert Brooks</td>\n",
       "      <td>Tom</td>\n",
       "      <td>ACTOR</td>\n",
       "      <td>Taxi Driver</td>\n",
       "      <td>MOVIE</td>\n",
       "      <td>1976</td>\n",
       "      <td>['drama', 'crime']</td>\n",
       "      <td>8.2</td>\n",
       "      <td>808582.0</td>\n",
       "    </tr>\n",
       "    <tr>\n",
       "      <th>3</th>\n",
       "      <td>Harvey Keitel</td>\n",
       "      <td>Matthew 'Sport' Higgins</td>\n",
       "      <td>ACTOR</td>\n",
       "      <td>Taxi Driver</td>\n",
       "      <td>MOVIE</td>\n",
       "      <td>1976</td>\n",
       "      <td>['drama', 'crime']</td>\n",
       "      <td>8.2</td>\n",
       "      <td>808582.0</td>\n",
       "    </tr>\n",
       "    <tr>\n",
       "      <th>4</th>\n",
       "      <td>Cybill Shepherd</td>\n",
       "      <td>Betsy</td>\n",
       "      <td>ACTOR</td>\n",
       "      <td>Taxi Driver</td>\n",
       "      <td>MOVIE</td>\n",
       "      <td>1976</td>\n",
       "      <td>['drama', 'crime']</td>\n",
       "      <td>8.2</td>\n",
       "      <td>808582.0</td>\n",
       "    </tr>\n",
       "    <tr>\n",
       "      <th>5</th>\n",
       "      <td>Peter Boyle</td>\n",
       "      <td>Wizard</td>\n",
       "      <td>ACTOR</td>\n",
       "      <td>Taxi Driver</td>\n",
       "      <td>MOVIE</td>\n",
       "      <td>1976</td>\n",
       "      <td>['drama', 'crime']</td>\n",
       "      <td>8.2</td>\n",
       "      <td>808582.0</td>\n",
       "    </tr>\n",
       "    <tr>\n",
       "      <th>6</th>\n",
       "      <td>Leonard Harris</td>\n",
       "      <td>Senator Charles Palantine</td>\n",
       "      <td>ACTOR</td>\n",
       "      <td>Taxi Driver</td>\n",
       "      <td>MOVIE</td>\n",
       "      <td>1976</td>\n",
       "      <td>['drama', 'crime']</td>\n",
       "      <td>8.2</td>\n",
       "      <td>808582.0</td>\n",
       "    </tr>\n",
       "    <tr>\n",
       "      <th>7</th>\n",
       "      <td>Diahnne Abbott</td>\n",
       "      <td>Concession Girl</td>\n",
       "      <td>ACTOR</td>\n",
       "      <td>Taxi Driver</td>\n",
       "      <td>MOVIE</td>\n",
       "      <td>1976</td>\n",
       "      <td>['drama', 'crime']</td>\n",
       "      <td>8.2</td>\n",
       "      <td>808582.0</td>\n",
       "    </tr>\n",
       "    <tr>\n",
       "      <th>8</th>\n",
       "      <td>Gino Ardito</td>\n",
       "      <td>Policeman at Rally</td>\n",
       "      <td>ACTOR</td>\n",
       "      <td>Taxi Driver</td>\n",
       "      <td>MOVIE</td>\n",
       "      <td>1976</td>\n",
       "      <td>['drama', 'crime']</td>\n",
       "      <td>8.2</td>\n",
       "      <td>808582.0</td>\n",
       "    </tr>\n",
       "    <tr>\n",
       "      <th>9</th>\n",
       "      <td>Martin Scorsese</td>\n",
       "      <td>Passenger Watching Silhouette</td>\n",
       "      <td>ACTOR</td>\n",
       "      <td>Taxi Driver</td>\n",
       "      <td>MOVIE</td>\n",
       "      <td>1976</td>\n",
       "      <td>['drama', 'crime']</td>\n",
       "      <td>8.2</td>\n",
       "      <td>808582.0</td>\n",
       "    </tr>\n",
       "  </tbody>\n",
       "</table>\n",
       "</div>"
      ],
      "text/plain": [
       "              name                      Character   r0le        TITLE   Type  \\\n",
       "0   Robert De Niro                  Travis Bickle  ACTOR  Taxi Driver  MOVIE   \n",
       "1     Jodie Foster                  Iris Steensma  ACTOR  Taxi Driver  MOVIE   \n",
       "2    Albert Brooks                            Tom  ACTOR  Taxi Driver  MOVIE   \n",
       "3    Harvey Keitel        Matthew 'Sport' Higgins  ACTOR  Taxi Driver  MOVIE   \n",
       "4  Cybill Shepherd                          Betsy  ACTOR  Taxi Driver  MOVIE   \n",
       "5      Peter Boyle                         Wizard  ACTOR  Taxi Driver  MOVIE   \n",
       "6   Leonard Harris      Senator Charles Palantine  ACTOR  Taxi Driver  MOVIE   \n",
       "7   Diahnne Abbott                Concession Girl  ACTOR  Taxi Driver  MOVIE   \n",
       "8      Gino Ardito             Policeman at Rally  ACTOR  Taxi Driver  MOVIE   \n",
       "9  Martin Scorsese  Passenger Watching Silhouette  ACTOR  Taxi Driver  MOVIE   \n",
       "\n",
       "   release Year              genres  imdb sc0re  imdb v0tes  \n",
       "0          1976  ['drama', 'crime']         8.2    808582.0  \n",
       "1          1976  ['drama', 'crime']         8.2    808582.0  \n",
       "2          1976  ['drama', 'crime']         8.2    808582.0  \n",
       "3          1976  ['drama', 'crime']         8.2    808582.0  \n",
       "4          1976  ['drama', 'crime']         8.2    808582.0  \n",
       "5          1976  ['drama', 'crime']         8.2    808582.0  \n",
       "6          1976  ['drama', 'crime']         8.2    808582.0  \n",
       "7          1976  ['drama', 'crime']         8.2    808582.0  \n",
       "8          1976  ['drama', 'crime']         8.2    808582.0  \n",
       "9          1976  ['drama', 'crime']         8.2    808582.0  "
      ]
     },
     "execution_count": 662,
     "metadata": {},
     "output_type": "execute_result"
    }
   ],
   "source": [
    "# obtaining the first 10 rows from the df table\n",
    "# hint: you can use head() and tail() in Jupyter Notebook without wrapping them into print()\n",
    "df.head(10)"
   ]
  },
  {
   "cell_type": "markdown",
   "id": "e579aa91",
   "metadata": {},
   "source": [
    "Obtain the general information about the table with one command:"
   ]
  },
  {
   "cell_type": "code",
   "execution_count": null,
   "id": "7bf66d2a",
   "metadata": {},
   "outputs": [
    {
     "name": "stdout",
     "output_type": "stream",
     "text": [
      "<class 'pandas.core.frame.DataFrame'>\n",
      "RangeIndex: 85579 entries, 0 to 85578\n",
      "Data columns (total 9 columns):\n",
      " #   Column        Non-Null Count  Dtype  \n",
      "---  ------        --------------  -----  \n",
      " 0      name       85579 non-null  object \n",
      " 1   Character     85579 non-null  object \n",
      " 2   r0le          85579 non-null  object \n",
      " 3   TITLE         85578 non-null  object \n",
      " 4     Type        85579 non-null  object \n",
      " 5   release Year  85579 non-null  int64  \n",
      " 6   genres        85579 non-null  object \n",
      " 7   imdb sc0re    80970 non-null  float64\n",
      " 8   imdb v0tes    80853 non-null  float64\n",
      "dtypes: float64(2), int64(1), object(6)\n",
      "memory usage: 5.9+ MB\n"
     ]
    }
   ],
   "source": [
    "# obtaining general information about the data in df\n",
    "df.info()"
   ]
  },
  {
   "cell_type": "markdown",
   "id": "e91f62a7",
   "metadata": {},
   "source": [
    "The table contains nine columns. The majority store the same data type: object. The only exceptions are `'release Year'` (int64 type), `'imdb sc0re'` (float64 type) and `'imdb v0tes'` (float64 type). Scores and votes will be used in our analysis, so it's important to verify that they are present in the dataframe in the appropriate numeric format. Three columns (`'TITLE'`, `'imdb sc0re'` and `'imdb v0tes'`) have missing values.\n",
    "\n",
    "According to the documentation:\n",
    "- `'name'` — actor/director's name and last name\n",
    "- `'Character'` — character played (for actors)\n",
    "- `'r0le '` — the person's contribution to the title (it can be in the capacity of either actor or director)\n",
    "- `'TITLE '` — title of the movie (show)\n",
    "- `'  Type'` — show or movie\n",
    "- `'release Year'` — year when movie (show) was released\n",
    "- `'genres'` — list of genres under which the movie (show) falls\n",
    "- `'imdb sc0re'` — score on IMDb\n",
    "- `'imdb v0tes'` — votes on IMDb\n",
    "\n",
    "We can see three issues with the column names:\n",
    "1. Some names are uppercase, while others are lowercase.\n",
    "2. There are names containing whitespace.\n",
    "3. A few column names have digit '0' instead of letter 'o'. \n"
   ]
  },
  {
   "cell_type": "markdown",
   "id": "4355de7b",
   "metadata": {},
   "source": [
    "### Conclusions <a id='data_review_conclusions'></a> \n",
    "\n",
    "Each row in the table stores data about a movie or show. The columns can be divided into two categories: the first is about the roles held by different people who worked on the movie or show (role, name of the actor or director, and character if the row is about an actor); the second category is information about the movie or show itself (title, release year, genre, imdb figures).\n",
    "\n",
    "It's clear that there is sufficient data to do the analysis and evaluate our assumption. However, to move forward, we need to preprocess the data."
   ]
  },
  {
   "cell_type": "markdown",
   "id": "c5dc9111",
   "metadata": {},
   "source": [
    "## Stage 2. Data preprocessing <a id='data_preprocessing'></a>\n",
    "Correct the formatting in the column headers and deal with the missing values. Then, check whether there are duplicates in the data."
   ]
  },
  {
   "cell_type": "code",
   "execution_count": null,
   "id": "9c850d13",
   "metadata": {},
   "outputs": [
    {
     "data": {
      "text/plain": [
       "Index(['   name', 'Character', 'r0le', 'TITLE', '  Type', 'release Year',\n",
       "       'genres', 'imdb sc0re', 'imdb v0tes'],\n",
       "      dtype='object')"
      ]
     },
     "execution_count": 664,
     "metadata": {},
     "output_type": "execute_result"
    }
   ],
   "source": [
    "# the list of column names in the df table\n",
    "df.columns"
   ]
  },
  {
   "cell_type": "markdown",
   "id": "5f966df9",
   "metadata": {},
   "source": [
    "Change the column names according to the rules of good style:\n",
    "* If the name has several words, use snake_case\n",
    "* All characters must be lowercase\n",
    "* Remove whitespace\n",
    "* Replace zero with letter 'o'"
   ]
  },
  {
   "cell_type": "code",
   "execution_count": null,
   "id": "23a1dc11",
   "metadata": {},
   "outputs": [],
   "source": [
    "# renaming columns\n",
    "df = df.rename(columns={\n",
    "    '   name' : 'name',\n",
    "    'Character': 'character',\n",
    "    'r0le' : 'role',\n",
    "    'TITLE': 'title',\n",
    "    '  Type': 'type',\n",
    "    'release Year': 'release_year',\n",
    "    'imdb sc0re': 'imdb_score',\n",
    "    'imdb v0tes': 'imdb_votes',\n",
    "})"
   ]
  },
  {
   "cell_type": "markdown",
   "id": "464fbd04",
   "metadata": {},
   "source": [
    "Check the result. Print the names of the columns once more:"
   ]
  },
  {
   "cell_type": "code",
   "execution_count": null,
   "id": "0eb6527f",
   "metadata": {},
   "outputs": [
    {
     "data": {
      "text/plain": [
       "Index(['name', 'character', 'role', 'title', 'type', 'release_year', 'genres',\n",
       "       'imdb_score', 'imdb_votes'],\n",
       "      dtype='object')"
      ]
     },
     "execution_count": 666,
     "metadata": {},
     "output_type": "execute_result"
    }
   ],
   "source": [
    "# checking result: the list of column names\n",
    "df.columns"
   ]
  },
  {
   "cell_type": "markdown",
   "id": "14d9c319",
   "metadata": {},
   "source": [
    "### Missing values <a id='missing_values'></a>\n",
    "First, find the number of missing values in the table. To do so, combine two `pandas` methods:"
   ]
  },
  {
   "cell_type": "code",
   "execution_count": null,
   "id": "21c427f2",
   "metadata": {},
   "outputs": [
    {
     "data": {
      "text/plain": [
       "name               0\n",
       "character          0\n",
       "role               0\n",
       "title              1\n",
       "type               0\n",
       "release_year       0\n",
       "genres             0\n",
       "imdb_score      4609\n",
       "imdb_votes      4726\n",
       "dtype: int64"
      ]
     },
     "execution_count": 667,
     "metadata": {},
     "output_type": "execute_result"
    }
   ],
   "source": [
    "# calculating missing values\n",
    "df.isna().sum()"
   ]
  },
  {
   "cell_type": "markdown",
   "id": "c8272df3",
   "metadata": {},
   "source": [
    "We identified missing values in several columns. While the missing value in `'title'` isn't critical, missing values in `'imdb_score'` and `'imdb_votes'` affect around 6% of the data, which could impact our analysis. To ensure data integrity, we'll drop all rows with missing values."
   ]
  },
  {
   "cell_type": "code",
   "execution_count": null,
   "id": "599d5550",
   "metadata": {},
   "outputs": [],
   "source": [
    "# dropping rows where columns with scores, and votes have missing values\n",
    "df = df.dropna(axis='rows')"
   ]
  },
  {
   "cell_type": "markdown",
   "id": "2156887f",
   "metadata": {},
   "source": [
    "Make sure the table doesn't contain any more missing values. Count the missing values again."
   ]
  },
  {
   "cell_type": "code",
   "execution_count": null,
   "id": "55c0b0ce",
   "metadata": {},
   "outputs": [
    {
     "data": {
      "text/plain": [
       "name            0\n",
       "character       0\n",
       "role            0\n",
       "title           0\n",
       "type            0\n",
       "release_year    0\n",
       "genres          0\n",
       "imdb_score      0\n",
       "imdb_votes      0\n",
       "dtype: int64"
      ]
     },
     "execution_count": 669,
     "metadata": {},
     "output_type": "execute_result"
    }
   ],
   "source": [
    "# counting missing values\n",
    "df.isna().sum()"
   ]
  },
  {
   "cell_type": "markdown",
   "id": "a7dc7aa0",
   "metadata": {},
   "source": [
    "### Duplicates <a id='duplicates'></a>\n",
    "Find the number of duplicate rows in the table using one command:"
   ]
  },
  {
   "cell_type": "code",
   "execution_count": null,
   "id": "9227df01",
   "metadata": {},
   "outputs": [
    {
     "data": {
      "text/plain": [
       "6994"
      ]
     },
     "execution_count": 670,
     "metadata": {},
     "output_type": "execute_result"
    }
   ],
   "source": [
    "#counting duplicate rows\n",
    "duplicates = df.duplicated().sum()\n",
    "duplicates"
   ]
  },
  {
   "cell_type": "markdown",
   "id": "5f6eb0fc",
   "metadata": {},
   "source": [
    "Review the duplicate rows to determine if removing them would distort our dataset."
   ]
  },
  {
   "cell_type": "code",
   "execution_count": null,
   "id": "bcf32fcb",
   "metadata": {
    "scrolled": false
   },
   "outputs": [
    {
     "data": {
      "text/html": [
       "<div>\n",
       "<style scoped>\n",
       "    .dataframe tbody tr th:only-of-type {\n",
       "        vertical-align: middle;\n",
       "    }\n",
       "\n",
       "    .dataframe tbody tr th {\n",
       "        vertical-align: top;\n",
       "    }\n",
       "\n",
       "    .dataframe thead th {\n",
       "        text-align: right;\n",
       "    }\n",
       "</style>\n",
       "<table border=\"1\" class=\"dataframe\">\n",
       "  <thead>\n",
       "    <tr style=\"text-align: right;\">\n",
       "      <th></th>\n",
       "      <th>name</th>\n",
       "      <th>character</th>\n",
       "      <th>role</th>\n",
       "      <th>title</th>\n",
       "      <th>type</th>\n",
       "      <th>release_year</th>\n",
       "      <th>genres</th>\n",
       "      <th>imdb_score</th>\n",
       "      <th>imdb_votes</th>\n",
       "    </tr>\n",
       "  </thead>\n",
       "  <tbody>\n",
       "    <tr>\n",
       "      <th>7560</th>\n",
       "      <td>Philip Greene</td>\n",
       "      <td>Baseball Fan (uncredited)</td>\n",
       "      <td>ACTOR</td>\n",
       "      <td>How Do You Know</td>\n",
       "      <td>MOVIE</td>\n",
       "      <td>2010</td>\n",
       "      <td>['comedy', 'drama', 'romance']</td>\n",
       "      <td>5.4</td>\n",
       "      <td>50383.0</td>\n",
       "    </tr>\n",
       "    <tr>\n",
       "      <th>7561</th>\n",
       "      <td>Philip Greene</td>\n",
       "      <td>Baseball Fan (uncredited)</td>\n",
       "      <td>ACTOR</td>\n",
       "      <td>How Do You Know</td>\n",
       "      <td>MOVIE</td>\n",
       "      <td>2010</td>\n",
       "      <td>['comedy', 'drama', 'romance']</td>\n",
       "      <td>5.4</td>\n",
       "      <td>50383.0</td>\n",
       "    </tr>\n",
       "    <tr>\n",
       "      <th>14502</th>\n",
       "      <td>Dan Levy</td>\n",
       "      <td>Reporter</td>\n",
       "      <td>ACTOR</td>\n",
       "      <td>A Very Harold &amp; Kumar Christmas</td>\n",
       "      <td>MOVIE</td>\n",
       "      <td>2011</td>\n",
       "      <td>['comedy', 'fantasy', 'romance']</td>\n",
       "      <td>6.2</td>\n",
       "      <td>69562.0</td>\n",
       "    </tr>\n",
       "    <tr>\n",
       "      <th>14512</th>\n",
       "      <td>Dan Levy</td>\n",
       "      <td>Reporter</td>\n",
       "      <td>ACTOR</td>\n",
       "      <td>A Very Harold &amp; Kumar Christmas</td>\n",
       "      <td>MOVIE</td>\n",
       "      <td>2011</td>\n",
       "      <td>['comedy', 'fantasy', 'romance']</td>\n",
       "      <td>6.2</td>\n",
       "      <td>69562.0</td>\n",
       "    </tr>\n",
       "    <tr>\n",
       "      <th>18951</th>\n",
       "      <td>Nicolas Le Nev??</td>\n",
       "      <td>unknown</td>\n",
       "      <td>DIRECTOR</td>\n",
       "      <td>Sammy &amp; Co</td>\n",
       "      <td>SHOW</td>\n",
       "      <td>2014</td>\n",
       "      <td>['animation', 'european']</td>\n",
       "      <td>5.7</td>\n",
       "      <td>31.0</td>\n",
       "    </tr>\n",
       "  </tbody>\n",
       "</table>\n",
       "</div>"
      ],
      "text/plain": [
       "                   name                  character      role  \\\n",
       "7560      Philip Greene  Baseball Fan (uncredited)     ACTOR   \n",
       "7561      Philip Greene  Baseball Fan (uncredited)     ACTOR   \n",
       "14502          Dan Levy                   Reporter     ACTOR   \n",
       "14512          Dan Levy                   Reporter     ACTOR   \n",
       "18951  Nicolas Le Nev??                    unknown  DIRECTOR   \n",
       "\n",
       "                                 title   type  release_year  \\\n",
       "7560                   How Do You Know  MOVIE          2010   \n",
       "7561                   How Do You Know  MOVIE          2010   \n",
       "14502  A Very Harold & Kumar Christmas  MOVIE          2011   \n",
       "14512  A Very Harold & Kumar Christmas  MOVIE          2011   \n",
       "18951                       Sammy & Co   SHOW          2014   \n",
       "\n",
       "                                 genres  imdb_score  imdb_votes  \n",
       "7560     ['comedy', 'drama', 'romance']         5.4     50383.0  \n",
       "7561     ['comedy', 'drama', 'romance']         5.4     50383.0  \n",
       "14502  ['comedy', 'fantasy', 'romance']         6.2     69562.0  \n",
       "14512  ['comedy', 'fantasy', 'romance']         6.2     69562.0  \n",
       "18951         ['animation', 'european']         5.7        31.0  "
      ]
     },
     "execution_count": 671,
     "metadata": {},
     "output_type": "execute_result"
    }
   ],
   "source": [
    "# Produce table with duplicates (with original rows included) and review last 5 rows\n",
    "duplicated_rows = df[df.duplicated(keep=False)]\n",
    "duplicated_rows.head()\n",
    "#should this be .tail() for last 5 "
   ]
  },
  {
   "cell_type": "markdown",
   "id": "a1ed6640",
   "metadata": {},
   "source": [
    "There are two clear duplicates in the printed rows. We can safely remove them.\n",
    "Call the `pandas` method for getting rid of duplicate rows:"
   ]
  },
  {
   "cell_type": "code",
   "execution_count": null,
   "id": "724d5bc8",
   "metadata": {},
   "outputs": [],
   "source": [
    "# removing duplicate rows\n",
    "df = df.drop_duplicates()"
   ]
  },
  {
   "cell_type": "markdown",
   "id": "fc8c77ba",
   "metadata": {},
   "source": [
    "Check for duplicate rows once more to make sure you have removed all of them:"
   ]
  },
  {
   "cell_type": "code",
   "execution_count": null,
   "id": "8091a9bc",
   "metadata": {},
   "outputs": [
    {
     "data": {
      "text/plain": [
       "0"
      ]
     },
     "execution_count": 673,
     "metadata": {},
     "output_type": "execute_result"
    }
   ],
   "source": [
    "# checking for duplicates\n",
    "duplicates = df.duplicated().sum()\n",
    "duplicates"
   ]
  },
  {
   "cell_type": "markdown",
   "id": "1d802b07",
   "metadata": {},
   "source": [
    "Now get rid of implicit duplicates in the `'type'` column. For example, the string `'SHOW'` can be written in different ways. These kinds of errors will also affect the result."
   ]
  },
  {
   "cell_type": "markdown",
   "id": "d5f987ed",
   "metadata": {},
   "source": [
    "Print a list of unique `'type'` names, sorted in alphabetical order. To do so:\n",
    "* Retrieve the intended dataframe column \n",
    "* Apply a sorting method to it\n",
    "* For the sorted column, call the method that will return all unique column values"
   ]
  },
  {
   "cell_type": "code",
   "execution_count": null,
   "id": "3d7b0ac5",
   "metadata": {},
   "outputs": [
    {
     "data": {
      "text/plain": [
       "array(['MOVIE', 'the movie', 'tv show', 'shows', 'movies', 'tv shows',\n",
       "       'tv series', 'tv', 'SHOW'], dtype=object)"
      ]
     },
     "execution_count": 674,
     "metadata": {},
     "output_type": "execute_result"
    }
   ],
   "source": [
    "# viewing unique type names\n",
    "unique_type = df['type'].unique()\n",
    "unique_type"
   ]
  },
  {
   "cell_type": "markdown",
   "id": "ac6e8b18",
   "metadata": {},
   "source": [
    "Look through the list to find implicit duplicates of `'show'` (`'movie'` duplicates will be ignored since the assumption is about shows). These could be names written incorrectly or alternative names of the same genre.\n",
    "\n",
    "You will see the following implicit duplicates:\n",
    "* `'shows'`\n",
    "* `'SHOW'`\n",
    "* `'tv show'`\n",
    "* `'tv shows'`\n",
    "* `'tv series'`\n",
    "* `'tv'`\n",
    "\n",
    "To get rid of them, declare the function `replace_wrong_show()` with two parameters: \n",
    "* `wrong_shows_list=` — the list of duplicates\n",
    "* `correct_show=` — the string with the correct value\n",
    "\n",
    "The function should correct the names in the `'type'` column from the `df` table (i.e., replace each value from the `wrong_shows_list` list with the value in `correct_show`)."
   ]
  },
  {
   "cell_type": "code",
   "execution_count": null,
   "id": "bff944f9",
   "metadata": {},
   "outputs": [],
   "source": [
    "# function for replacing implicit duplicates\n",
    "wrong_shows_list = ['tv show', 'shows', 'tv shows', 'tv series', 'tv', 'SHOW']\n",
    "correct_show = 'show'\n",
    "wrong_movie_list = 'MOVIE', 'the movie', 'movies'\n",
    "correct_movie = 'movie'\n",
    "\n",
    "def replace_wrong_show(wrong_shows_list, correct_show):\n",
    "    for name in wrong_shows_list:\n",
    "        df['type']= df['type'].replace(name, correct_show)\n",
    "        \n",
    "def replace_wrong_movie(wrong_movie_list, correct_movie):\n",
    "    for name in wrong_movie_list:\n",
    "        df['type']= df['type'].replace(name, correct_movie)"
   ]
  },
  {
   "cell_type": "markdown",
   "id": "d02d13a6",
   "metadata": {},
   "source": [
    "Call `replace_wrong_show()` and pass it arguments so that it clears implicit duplicates and replaces them with `SHOW`:"
   ]
  },
  {
   "cell_type": "code",
   "execution_count": null,
   "id": "a2217e53",
   "metadata": {
    "scrolled": true
   },
   "outputs": [],
   "source": [
    "# removing implicit duplicates\n",
    "replace_wrong_show(wrong_shows_list, correct_show)\n",
    "replace_wrong_movie(wrong_movie_list, correct_movie)"
   ]
  },
  {
   "cell_type": "markdown",
   "id": "318b09f7",
   "metadata": {},
   "source": [
    "Make sure the duplicate names are removed. Print the list of unique values from the `'type'` column:"
   ]
  },
  {
   "cell_type": "code",
   "execution_count": null,
   "id": "25d49d73",
   "metadata": {},
   "outputs": [
    {
     "data": {
      "text/plain": [
       "array(['movie', 'show'], dtype=object)"
      ]
     },
     "execution_count": 677,
     "metadata": {},
     "output_type": "execute_result"
    }
   ],
   "source": [
    "# viewing unique genre names\n",
    "df['type'].sort_values().unique()"
   ]
  },
  {
   "cell_type": "markdown",
   "id": "18b2049e",
   "metadata": {},
   "source": [
    "### Conclusions <a id='data_preprocessing_conclusions'></a>\n",
    "We detected three issues with the data:\n",
    "\n",
    "- Incorrect header styles\n",
    "- Missing values\n",
    "- Duplicate rows and implicit duplicates\n",
    "\n",
    "The headers have been cleaned up to make processing the table simpler.\n",
    "\n",
    "All rows with missing values have been removed. \n",
    "\n",
    "The absence of duplicates will make the results more precise and easier to understand.\n",
    "\n",
    "Now we can move on to our analysis of the prepared data."
   ]
  },
  {
   "cell_type": "markdown",
   "id": "1aa0f1b1",
   "metadata": {},
   "source": [
    "## Stage 3. Data analysis <a id='hypotheses'></a>"
   ]
  },
  {
   "cell_type": "markdown",
   "id": "f8fb6a0e",
   "metadata": {},
   "source": [
    "Based on the previous project stages, you can now define how the assumption will be checked. Calculate the average amount of votes for each score (this data is available in the `imdb_score` and `imdb_votes` columns), and then check how these averages relate to each other. If the averages for shows with the highest scores are bigger than those for shows with lower scores, the assumption appears to be true.\n",
    "\n",
    "Based on this, complete the following steps:\n",
    "\n",
    "- Filter the dataframe to only include shows released in 1999 or later.\n",
    "- Group scores into buckets by rounding the values of the appropriate column (a set of 1-10 integers will help us make the outcome of our calculations more evident without damaging the quality of our research).\n",
    "- Identify outliers among scores based on their number of votes, and exclude scores with few votes.\n",
    "- Calculate the average votes for each score and check whether the assumption matches the results."
   ]
  },
  {
   "cell_type": "markdown",
   "id": "0ea2cb51",
   "metadata": {},
   "source": [
    "To filter the dataframe and only include shows released in 1999 or later, you will take two steps. First, keep only titles published in 1999 or later in our dataframe. Then, filter the table to only contain shows (movies will be removed)."
   ]
  },
  {
   "cell_type": "code",
   "execution_count": null,
   "id": "6a704aa1",
   "metadata": {},
   "outputs": [],
   "source": [
    "# using conditional indexing modify df so it has only titles released after 1999 (with 1999 included)\n",
    "# give the slice of dataframe new name\n",
    "titles_after_1999 = df[df['release_year'] >=1999]"
   ]
  },
  {
   "cell_type": "code",
   "execution_count": null,
   "id": "128dc6a9",
   "metadata": {
    "scrolled": true
   },
   "outputs": [],
   "source": [
    "# repeat conditional indexing so df has only shows (movies are removed as result)\n",
    "shows_after_1999 = after_1999_titles[after_1999_titles['type'] == 'show']"
   ]
  },
  {
   "cell_type": "markdown",
   "id": "9648040c",
   "metadata": {},
   "source": [
    "The scores that are to be grouped should be rounded. For instance, titles with scores like 7.8, 8.1, and 8.3 will all be placed in the same bucket with a score of 8."
   ]
  },
  {
   "cell_type": "code",
   "execution_count": null,
   "id": "54bbd5c0",
   "metadata": {},
   "outputs": [
    {
     "name": "stderr",
     "output_type": "stream",
     "text": [
      "/tmp/ipykernel_32/1914999057.py:2: SettingWithCopyWarning: \n",
      "A value is trying to be set on a copy of a slice from a DataFrame.\n",
      "Try using .loc[row_indexer,col_indexer] = value instead\n",
      "\n",
      "See the caveats in the documentation: https://pandas.pydata.org/pandas-docs/stable/user_guide/indexing.html#returning-a-view-versus-a-copy\n",
      "  shows_after_1999['imdb_score'] = df['imdb_score'].round(0)\n"
     ]
    },
    {
     "data": {
      "text/plain": [
       "85433    8.0\n",
       "85434    8.0\n",
       "85435    8.0\n",
       "85436    8.0\n",
       "85437    8.0\n",
       "Name: imdb_score, dtype: float64"
      ]
     },
     "execution_count": 680,
     "metadata": {},
     "output_type": "execute_result"
    }
   ],
   "source": [
    "# rounding column with scores\n",
    "shows_after_1999['imdb_score'] = df['imdb_score'].round(0)\n",
    "#shows_after_1999['imdb_score'] = shows_after_1999['imdb_score'].round(0).copy()\n",
    "    #checking the outcome with tail()\n",
    "shows_after_1999['imdb_score'].tail()"
   ]
  },
  {
   "cell_type": "markdown",
   "id": "36dbd00a",
   "metadata": {},
   "source": [
    "It is now time to identify outliers based on the number of votes."
   ]
  },
  {
   "cell_type": "code",
   "execution_count": null,
   "id": "b8b55e95",
   "metadata": {},
   "outputs": [
    {
     "data": {
      "text/html": [
       "<div>\n",
       "<style scoped>\n",
       "    .dataframe tbody tr th:only-of-type {\n",
       "        vertical-align: middle;\n",
       "    }\n",
       "\n",
       "    .dataframe tbody tr th {\n",
       "        vertical-align: top;\n",
       "    }\n",
       "\n",
       "    .dataframe thead th {\n",
       "        text-align: right;\n",
       "    }\n",
       "</style>\n",
       "<table border=\"1\" class=\"dataframe\">\n",
       "  <thead>\n",
       "    <tr style=\"text-align: right;\">\n",
       "      <th></th>\n",
       "      <th>name</th>\n",
       "      <th>character</th>\n",
       "      <th>role</th>\n",
       "      <th>title</th>\n",
       "      <th>type</th>\n",
       "      <th>release_year</th>\n",
       "      <th>genres</th>\n",
       "      <th>imdb_votes</th>\n",
       "    </tr>\n",
       "    <tr>\n",
       "      <th>imdb_score</th>\n",
       "      <th></th>\n",
       "      <th></th>\n",
       "      <th></th>\n",
       "      <th></th>\n",
       "      <th></th>\n",
       "      <th></th>\n",
       "      <th></th>\n",
       "      <th></th>\n",
       "    </tr>\n",
       "  </thead>\n",
       "  <tbody>\n",
       "    <tr>\n",
       "      <th>2.0</th>\n",
       "      <td>24</td>\n",
       "      <td>18</td>\n",
       "      <td>2</td>\n",
       "      <td>5</td>\n",
       "      <td>1</td>\n",
       "      <td>4</td>\n",
       "      <td>5</td>\n",
       "      <td>5</td>\n",
       "    </tr>\n",
       "    <tr>\n",
       "      <th>3.0</th>\n",
       "      <td>27</td>\n",
       "      <td>27</td>\n",
       "      <td>2</td>\n",
       "      <td>4</td>\n",
       "      <td>1</td>\n",
       "      <td>3</td>\n",
       "      <td>4</td>\n",
       "      <td>4</td>\n",
       "    </tr>\n",
       "    <tr>\n",
       "      <th>4.0</th>\n",
       "      <td>174</td>\n",
       "      <td>108</td>\n",
       "      <td>2</td>\n",
       "      <td>30</td>\n",
       "      <td>1</td>\n",
       "      <td>13</td>\n",
       "      <td>19</td>\n",
       "      <td>30</td>\n",
       "    </tr>\n",
       "    <tr>\n",
       "      <th>5.0</th>\n",
       "      <td>581</td>\n",
       "      <td>419</td>\n",
       "      <td>2</td>\n",
       "      <td>94</td>\n",
       "      <td>1</td>\n",
       "      <td>12</td>\n",
       "      <td>68</td>\n",
       "      <td>91</td>\n",
       "    </tr>\n",
       "    <tr>\n",
       "      <th>6.0</th>\n",
       "      <td>2365</td>\n",
       "      <td>1896</td>\n",
       "      <td>2</td>\n",
       "      <td>347</td>\n",
       "      <td>1</td>\n",
       "      <td>19</td>\n",
       "      <td>212</td>\n",
       "      <td>329</td>\n",
       "    </tr>\n",
       "    <tr>\n",
       "      <th>7.0</th>\n",
       "      <td>4342</td>\n",
       "      <td>3813</td>\n",
       "      <td>2</td>\n",
       "      <td>593</td>\n",
       "      <td>1</td>\n",
       "      <td>24</td>\n",
       "      <td>304</td>\n",
       "      <td>568</td>\n",
       "    </tr>\n",
       "    <tr>\n",
       "      <th>8.0</th>\n",
       "      <td>4194</td>\n",
       "      <td>4028</td>\n",
       "      <td>2</td>\n",
       "      <td>539</td>\n",
       "      <td>1</td>\n",
       "      <td>23</td>\n",
       "      <td>329</td>\n",
       "      <td>527</td>\n",
       "    </tr>\n",
       "    <tr>\n",
       "      <th>9.0</th>\n",
       "      <td>542</td>\n",
       "      <td>498</td>\n",
       "      <td>2</td>\n",
       "      <td>65</td>\n",
       "      <td>1</td>\n",
       "      <td>20</td>\n",
       "      <td>50</td>\n",
       "      <td>65</td>\n",
       "    </tr>\n",
       "    <tr>\n",
       "      <th>10.0</th>\n",
       "      <td>8</td>\n",
       "      <td>8</td>\n",
       "      <td>1</td>\n",
       "      <td>1</td>\n",
       "      <td>1</td>\n",
       "      <td>1</td>\n",
       "      <td>1</td>\n",
       "      <td>1</td>\n",
       "    </tr>\n",
       "  </tbody>\n",
       "</table>\n",
       "</div>"
      ],
      "text/plain": [
       "            name  character  role  title  type  release_year  genres  \\\n",
       "imdb_score                                                             \n",
       "2.0           24         18     2      5     1             4       5   \n",
       "3.0           27         27     2      4     1             3       4   \n",
       "4.0          174        108     2     30     1            13      19   \n",
       "5.0          581        419     2     94     1            12      68   \n",
       "6.0         2365       1896     2    347     1            19     212   \n",
       "7.0         4342       3813     2    593     1            24     304   \n",
       "8.0         4194       4028     2    539     1            23     329   \n",
       "9.0          542        498     2     65     1            20      50   \n",
       "10.0           8          8     1      1     1             1       1   \n",
       "\n",
       "            imdb_votes  \n",
       "imdb_score              \n",
       "2.0                  5  \n",
       "3.0                  4  \n",
       "4.0                 30  \n",
       "5.0                 91  \n",
       "6.0                329  \n",
       "7.0                568  \n",
       "8.0                527  \n",
       "9.0                 65  \n",
       "10.0                 1  "
      ]
     },
     "execution_count": 681,
     "metadata": {},
     "output_type": "execute_result"
    }
   ],
   "source": [
    "# Use groupby() for scores and count all unique values in each group, print the result\n",
    "shows_after_1999.groupby('imdb_score').nunique()\n"
   ]
  },
  {
   "cell_type": "markdown",
   "id": "1ba6daae",
   "metadata": {},
   "source": [
    "Based on the aggregation performed, it is evident that scores 2 (24 voted shows), 3 (27 voted shows), and 10 (only 8 voted shows) are outliers. There isn't enough data for these scores for the average number of votes to be meaningful."
   ]
  },
  {
   "cell_type": "markdown",
   "id": "bd468c46",
   "metadata": {},
   "source": [
    "To obtain the mean numbers of votes for the selected scores (we identified a range of 4-9 as acceptable), use conditional filtering and grouping."
   ]
  },
  {
   "cell_type": "code",
   "execution_count": null,
   "id": "d1867e0e",
   "metadata": {},
   "outputs": [
    {
     "data": {
      "text/html": [
       "<div>\n",
       "<style scoped>\n",
       "    .dataframe tbody tr th:only-of-type {\n",
       "        vertical-align: middle;\n",
       "    }\n",
       "\n",
       "    .dataframe tbody tr th {\n",
       "        vertical-align: top;\n",
       "    }\n",
       "\n",
       "    .dataframe thead th {\n",
       "        text-align: right;\n",
       "    }\n",
       "</style>\n",
       "<table border=\"1\" class=\"dataframe\">\n",
       "  <thead>\n",
       "    <tr style=\"text-align: right;\">\n",
       "      <th></th>\n",
       "      <th>imdb_score</th>\n",
       "      <th>imdb_votes</th>\n",
       "    </tr>\n",
       "  </thead>\n",
       "  <tbody>\n",
       "    <tr>\n",
       "      <th>0</th>\n",
       "      <td>4.0</td>\n",
       "      <td>5277.583333</td>\n",
       "    </tr>\n",
       "    <tr>\n",
       "      <th>1</th>\n",
       "      <td>5.0</td>\n",
       "      <td>3143.942568</td>\n",
       "    </tr>\n",
       "    <tr>\n",
       "      <th>2</th>\n",
       "      <td>6.0</td>\n",
       "      <td>3481.717322</td>\n",
       "    </tr>\n",
       "    <tr>\n",
       "      <th>3</th>\n",
       "      <td>7.0</td>\n",
       "      <td>8727.068211</td>\n",
       "    </tr>\n",
       "    <tr>\n",
       "      <th>4</th>\n",
       "      <td>8.0</td>\n",
       "      <td>30299.460967</td>\n",
       "    </tr>\n",
       "    <tr>\n",
       "      <th>5</th>\n",
       "      <td>9.0</td>\n",
       "      <td>126904.109515</td>\n",
       "    </tr>\n",
       "  </tbody>\n",
       "</table>\n",
       "</div>"
      ],
      "text/plain": [
       "   imdb_score     imdb_votes\n",
       "0         4.0    5277.583333\n",
       "1         5.0    3143.942568\n",
       "2         6.0    3481.717322\n",
       "3         7.0    8727.068211\n",
       "4         8.0   30299.460967\n",
       "5         9.0  126904.109515"
      ]
     },
     "execution_count": 682,
     "metadata": {},
     "output_type": "execute_result"
    }
   ],
   "source": [
    "# filter dataframe using two conditions (scores to be in the range 4-9)\n",
    "shows_after_1999 = shows_after_1999[shows_after_1999['imdb_score'] >=4.0]\n",
    "shows_after_1999 = shows_after_1999[shows_after_1999['imdb_score'] <=9.0]\n",
    "# group scores and corresponding average number of votes, reset index and print the result\n",
    "grouped_df = shows_after_1999.groupby('imdb_score')['imdb_votes'].mean().reset_index()\n",
    "grouped_df"
   ]
  },
  {
   "cell_type": "markdown",
   "id": "96a66d14",
   "metadata": {},
   "source": [
    "Now for the final step! Round the column with the averages, rename both columns, and print the dataframe in descending order."
   ]
  },
  {
   "cell_type": "code",
   "execution_count": null,
   "id": "5999051b",
   "metadata": {},
   "outputs": [],
   "source": [
    "# round column with averages\n",
    "grouped_df['imdb_votes'] = grouped_df['imdb_votes'].round(0)\n",
    "# rename columns\n",
    "grouped_df = grouped_df.rename(columns={'imdb_score': 'Score', 'imdb_votes': 'Average Votes'})\n",
    "# print dataframe in descending order\n",
    "grouped_df = grouped_df.sort_values(by='Average Votes', ascending=False)"
   ]
  },
  {
   "cell_type": "markdown",
   "id": "af07386d",
   "metadata": {},
   "source": [
    "The assumption macthes the analysis: the shows with the top 3 scores have the most amounts of votes."
   ]
  },
  {
   "cell_type": "code",
   "execution_count": null,
   "id": "b2987e01",
   "metadata": {},
   "outputs": [
    {
     "data": {
      "text/html": [
       "<div>\n",
       "<style scoped>\n",
       "    .dataframe tbody tr th:only-of-type {\n",
       "        vertical-align: middle;\n",
       "    }\n",
       "\n",
       "    .dataframe tbody tr th {\n",
       "        vertical-align: top;\n",
       "    }\n",
       "\n",
       "    .dataframe thead th {\n",
       "        text-align: right;\n",
       "    }\n",
       "</style>\n",
       "<table border=\"1\" class=\"dataframe\">\n",
       "  <thead>\n",
       "    <tr style=\"text-align: right;\">\n",
       "      <th></th>\n",
       "      <th>Score</th>\n",
       "      <th>Average Votes</th>\n",
       "    </tr>\n",
       "  </thead>\n",
       "  <tbody>\n",
       "    <tr>\n",
       "      <th>5</th>\n",
       "      <td>9.0</td>\n",
       "      <td>126904.0</td>\n",
       "    </tr>\n",
       "    <tr>\n",
       "      <th>4</th>\n",
       "      <td>8.0</td>\n",
       "      <td>30299.0</td>\n",
       "    </tr>\n",
       "    <tr>\n",
       "      <th>3</th>\n",
       "      <td>7.0</td>\n",
       "      <td>8727.0</td>\n",
       "    </tr>\n",
       "    <tr>\n",
       "      <th>0</th>\n",
       "      <td>4.0</td>\n",
       "      <td>5278.0</td>\n",
       "    </tr>\n",
       "    <tr>\n",
       "      <th>2</th>\n",
       "      <td>6.0</td>\n",
       "      <td>3482.0</td>\n",
       "    </tr>\n",
       "    <tr>\n",
       "      <th>1</th>\n",
       "      <td>5.0</td>\n",
       "      <td>3144.0</td>\n",
       "    </tr>\n",
       "  </tbody>\n",
       "</table>\n",
       "</div>"
      ],
      "text/plain": [
       "   Score  Average Votes\n",
       "5    9.0       126904.0\n",
       "4    8.0        30299.0\n",
       "3    7.0         8727.0\n",
       "0    4.0         5278.0\n",
       "2    6.0         3482.0\n",
       "1    5.0         3144.0"
      ]
     },
     "execution_count": 684,
     "metadata": {},
     "output_type": "execute_result"
    }
   ],
   "source": [
    "grouped_df.head(6)\n"
   ]
  },
  {
   "cell_type": "code",
   "execution_count": null,
   "id": "9d51038e",
   "metadata": {},
   "outputs": [
    {
     "data": {
      "text/html": [
       "<div>\n",
       "<style scoped>\n",
       "    .dataframe tbody tr th:only-of-type {\n",
       "        vertical-align: middle;\n",
       "    }\n",
       "\n",
       "    .dataframe tbody tr th {\n",
       "        vertical-align: top;\n",
       "    }\n",
       "\n",
       "    .dataframe thead th {\n",
       "        text-align: right;\n",
       "    }\n",
       "</style>\n",
       "<table border=\"1\" class=\"dataframe\">\n",
       "  <thead>\n",
       "    <tr style=\"text-align: right;\">\n",
       "      <th></th>\n",
       "      <th>Score</th>\n",
       "      <th>Average Votes</th>\n",
       "    </tr>\n",
       "  </thead>\n",
       "  <tbody>\n",
       "    <tr>\n",
       "      <th>5</th>\n",
       "      <td>9.0</td>\n",
       "      <td>126904.0</td>\n",
       "    </tr>\n",
       "    <tr>\n",
       "      <th>4</th>\n",
       "      <td>8.0</td>\n",
       "      <td>30299.0</td>\n",
       "    </tr>\n",
       "    <tr>\n",
       "      <th>3</th>\n",
       "      <td>7.0</td>\n",
       "      <td>8727.0</td>\n",
       "    </tr>\n",
       "    <tr>\n",
       "      <th>0</th>\n",
       "      <td>4.0</td>\n",
       "      <td>5278.0</td>\n",
       "    </tr>\n",
       "    <tr>\n",
       "      <th>2</th>\n",
       "      <td>6.0</td>\n",
       "      <td>3482.0</td>\n",
       "    </tr>\n",
       "    <tr>\n",
       "      <th>1</th>\n",
       "      <td>5.0</td>\n",
       "      <td>3144.0</td>\n",
       "    </tr>\n",
       "  </tbody>\n",
       "</table>\n",
       "</div>"
      ],
      "text/plain": [
       "   Score  Average Votes\n",
       "5    9.0       126904.0\n",
       "4    8.0        30299.0\n",
       "3    7.0         8727.0\n",
       "0    4.0         5278.0\n",
       "2    6.0         3482.0\n",
       "1    5.0         3144.0"
      ]
     },
     "execution_count": 685,
     "metadata": {},
     "output_type": "execute_result"
    }
   ],
   "source": [
    "grouped_df = grouped_df.sort_values(by='Average Votes', ascending=False)\n",
    "grouped_df.tail(6)"
   ]
  },
  {
   "cell_type": "code",
   "execution_count": null,
   "id": "d36d17fa",
   "metadata": {},
   "outputs": [
    {
     "name": "stdout",
     "output_type": "stream",
     "text": [
      "<class 'pandas.core.frame.DataFrame'>\n",
      "Int64Index: 6 entries, 5 to 1\n",
      "Data columns (total 2 columns):\n",
      " #   Column         Non-Null Count  Dtype  \n",
      "---  ------         --------------  -----  \n",
      " 0   Score          6 non-null      float64\n",
      " 1   Average Votes  6 non-null      float64\n",
      "dtypes: float64(2)\n",
      "memory usage: 144.0 bytes\n"
     ]
    }
   ],
   "source": [
    "grouped_df.info()"
   ]
  },
  {
   "cell_type": "markdown",
   "id": "84e29a37",
   "metadata": {},
   "source": [
    "## Conclusion <a id='hypotheses'></a>"
   ]
  },
  {
   "cell_type": "markdown",
   "id": "984766a3",
   "metadata": {},
   "source": [
    "The research done confirms that highly-rated shows released during the \"Golden Age\" of television also have the most votes. While shows with score 4 have more votes than ones with scores 5 and 6, the top three (scores 7-9) have the largest number. The data studied represents around 94% of the original set, so we can be confident in our findings."
   ]
  }
 ],
 "metadata": {
  "ExecuteTimeLog": [
   {
    "duration": 326,
    "start_time": "2024-10-15T20:49:57.851Z"
   },
   {
    "duration": 557,
    "start_time": "2024-10-15T21:00:48.923Z"
   },
   {
    "duration": 12,
    "start_time": "2024-10-15T21:01:26.239Z"
   },
   {
    "duration": 147,
    "start_time": "2024-10-15T21:02:59.862Z"
   },
   {
    "duration": 14,
    "start_time": "2024-10-15T21:03:59.727Z"
   },
   {
    "duration": 24,
    "start_time": "2024-10-15T21:11:35.132Z"
   },
   {
    "duration": 4,
    "start_time": "2024-10-15T21:22:29.244Z"
   },
   {
    "duration": 14,
    "start_time": "2024-10-15T21:22:40.270Z"
   },
   {
    "duration": 4,
    "start_time": "2024-10-15T21:28:24.963Z"
   },
   {
    "duration": 6,
    "start_time": "2024-10-15T21:33:13.009Z"
   },
   {
    "duration": 4,
    "start_time": "2024-10-15T21:33:24.673Z"
   },
   {
    "duration": 10,
    "start_time": "2024-10-15T21:40:26.887Z"
   },
   {
    "duration": 9,
    "start_time": "2024-10-15T21:40:40.523Z"
   },
   {
    "duration": 10,
    "start_time": "2024-10-15T21:40:48.100Z"
   },
   {
    "duration": 2,
    "start_time": "2024-10-15T21:41:38.489Z"
   },
   {
    "duration": 116,
    "start_time": "2024-10-15T21:41:38.493Z"
   },
   {
    "duration": 10,
    "start_time": "2024-10-15T21:41:38.611Z"
   },
   {
    "duration": 28,
    "start_time": "2024-10-15T21:41:38.623Z"
   },
   {
    "duration": 3,
    "start_time": "2024-10-15T21:41:38.655Z"
   },
   {
    "duration": 8,
    "start_time": "2024-10-15T21:41:38.660Z"
   },
   {
    "duration": 4,
    "start_time": "2024-10-15T21:41:38.671Z"
   },
   {
    "duration": 9,
    "start_time": "2024-10-15T21:41:38.677Z"
   },
   {
    "duration": 3,
    "start_time": "2024-10-15T21:41:38.687Z"
   },
   {
    "duration": 3,
    "start_time": "2024-10-15T21:41:38.691Z"
   },
   {
    "duration": 45,
    "start_time": "2024-10-15T21:41:38.698Z"
   },
   {
    "duration": 2,
    "start_time": "2024-10-15T21:41:38.744Z"
   },
   {
    "duration": 3,
    "start_time": "2024-10-15T21:41:38.748Z"
   },
   {
    "duration": 2,
    "start_time": "2024-10-15T21:41:38.752Z"
   },
   {
    "duration": 2,
    "start_time": "2024-10-15T21:41:38.756Z"
   },
   {
    "duration": 2,
    "start_time": "2024-10-15T21:41:38.761Z"
   },
   {
    "duration": 2,
    "start_time": "2024-10-15T21:41:38.764Z"
   },
   {
    "duration": 2,
    "start_time": "2024-10-15T21:41:38.768Z"
   },
   {
    "duration": 2,
    "start_time": "2024-10-15T21:41:38.772Z"
   },
   {
    "duration": 2,
    "start_time": "2024-10-15T21:41:38.776Z"
   },
   {
    "duration": 2,
    "start_time": "2024-10-15T21:41:38.780Z"
   },
   {
    "duration": 2,
    "start_time": "2024-10-15T21:41:38.784Z"
   },
   {
    "duration": 3,
    "start_time": "2024-10-15T21:41:38.787Z"
   },
   {
    "duration": 53,
    "start_time": "2024-10-15T21:41:38.791Z"
   },
   {
    "duration": 20,
    "start_time": "2024-10-15T21:44:15.652Z"
   },
   {
    "duration": 33,
    "start_time": "2024-10-15T21:48:26.269Z"
   },
   {
    "duration": 21,
    "start_time": "2024-10-15T21:48:43.841Z"
   },
   {
    "duration": 54,
    "start_time": "2024-10-15T21:51:24.941Z"
   },
   {
    "duration": 17,
    "start_time": "2024-10-15T21:52:21.568Z"
   },
   {
    "duration": 19,
    "start_time": "2024-10-15T21:52:30.366Z"
   },
   {
    "duration": 17,
    "start_time": "2024-10-15T21:53:40.846Z"
   },
   {
    "duration": 47,
    "start_time": "2024-10-15T21:53:59.983Z"
   },
   {
    "duration": 62,
    "start_time": "2024-10-15T21:54:59.138Z"
   },
   {
    "duration": 69,
    "start_time": "2024-10-15T21:59:15.175Z"
   },
   {
    "duration": 50,
    "start_time": "2024-10-15T22:00:25.818Z"
   },
   {
    "duration": 47,
    "start_time": "2024-10-15T22:02:21.629Z"
   },
   {
    "duration": 16,
    "start_time": "2024-10-15T22:06:11.314Z"
   },
   {
    "duration": 44,
    "start_time": "2024-10-15T22:06:19.450Z"
   },
   {
    "duration": 61,
    "start_time": "2024-10-15T22:23:35.105Z"
   },
   {
    "duration": 71,
    "start_time": "2024-10-15T22:24:39.314Z"
   },
   {
    "duration": 295,
    "start_time": "2024-10-15T22:25:32.890Z"
   },
   {
    "duration": 54,
    "start_time": "2024-10-15T22:25:42.066Z"
   },
   {
    "duration": 54,
    "start_time": "2024-10-15T22:26:50.814Z"
   },
   {
    "duration": 50,
    "start_time": "2024-10-15T22:56:51.041Z"
   },
   {
    "duration": 3,
    "start_time": "2024-10-15T22:57:21.321Z"
   },
   {
    "duration": 44,
    "start_time": "2024-10-15T22:57:55.905Z"
   },
   {
    "duration": 7,
    "start_time": "2024-10-15T22:59:32.332Z"
   },
   {
    "duration": 3,
    "start_time": "2024-10-15T23:01:30.829Z"
   },
   {
    "duration": 3,
    "start_time": "2024-10-15T23:05:38.173Z"
   },
   {
    "duration": 18,
    "start_time": "2024-10-15T23:06:56.211Z"
   },
   {
    "duration": 3,
    "start_time": "2024-10-15T23:09:56.643Z"
   },
   {
    "duration": 26,
    "start_time": "2024-10-15T23:09:59.629Z"
   },
   {
    "duration": 3,
    "start_time": "2024-10-15T23:10:33.882Z"
   },
   {
    "duration": 19,
    "start_time": "2024-10-15T23:10:37.033Z"
   },
   {
    "duration": 3,
    "start_time": "2024-10-15T23:14:04.389Z"
   },
   {
    "duration": 22,
    "start_time": "2024-10-15T23:14:05.768Z"
   },
   {
    "duration": 3,
    "start_time": "2024-10-15T23:17:36.826Z"
   },
   {
    "duration": 18,
    "start_time": "2024-10-15T23:17:38.494Z"
   },
   {
    "duration": 15,
    "start_time": "2024-10-15T23:17:55.021Z"
   },
   {
    "duration": 35,
    "start_time": "2024-10-15T23:17:56.625Z"
   },
   {
    "duration": 15,
    "start_time": "2024-10-15T23:19:16.138Z"
   },
   {
    "duration": 15,
    "start_time": "2024-10-15T23:27:30.633Z"
   },
   {
    "duration": 34,
    "start_time": "2024-10-15T23:27:32.507Z"
   },
   {
    "duration": 158,
    "start_time": "2024-10-16T15:02:50.867Z"
   },
   {
    "duration": 12,
    "start_time": "2024-10-16T15:03:00.651Z"
   },
   {
    "duration": 12,
    "start_time": "2024-10-16T15:04:02.286Z"
   },
   {
    "duration": 11,
    "start_time": "2024-10-16T15:04:34.726Z"
   },
   {
    "duration": 286,
    "start_time": "2024-10-16T15:04:41.137Z"
   },
   {
    "duration": 137,
    "start_time": "2024-10-16T15:04:41.426Z"
   },
   {
    "duration": 14,
    "start_time": "2024-10-16T15:04:41.565Z"
   },
   {
    "duration": 22,
    "start_time": "2024-10-16T15:04:41.581Z"
   },
   {
    "duration": 3,
    "start_time": "2024-10-16T15:04:41.606Z"
   },
   {
    "duration": 4,
    "start_time": "2024-10-16T15:04:41.611Z"
   },
   {
    "duration": 4,
    "start_time": "2024-10-16T15:04:41.617Z"
   },
   {
    "duration": 49,
    "start_time": "2024-10-16T15:04:41.623Z"
   },
   {
    "duration": 25,
    "start_time": "2024-10-16T15:04:41.674Z"
   },
   {
    "duration": 19,
    "start_time": "2024-10-16T15:04:41.700Z"
   },
   {
    "duration": 62,
    "start_time": "2024-10-16T15:04:41.721Z"
   },
   {
    "duration": 45,
    "start_time": "2024-10-16T15:04:41.785Z"
   },
   {
    "duration": 54,
    "start_time": "2024-10-16T15:04:41.832Z"
   },
   {
    "duration": 37,
    "start_time": "2024-10-16T15:04:41.890Z"
   },
   {
    "duration": 7,
    "start_time": "2024-10-16T15:04:41.929Z"
   },
   {
    "duration": 3,
    "start_time": "2024-10-16T15:04:41.938Z"
   },
   {
    "duration": 36,
    "start_time": "2024-10-16T15:04:41.943Z"
   },
   {
    "duration": 33,
    "start_time": "2024-10-16T15:04:41.981Z"
   },
   {
    "duration": 2,
    "start_time": "2024-10-16T15:04:42.016Z"
   },
   {
    "duration": 2,
    "start_time": "2024-10-16T15:04:42.020Z"
   },
   {
    "duration": 2,
    "start_time": "2024-10-16T15:04:42.024Z"
   },
   {
    "duration": 2,
    "start_time": "2024-10-16T15:04:42.028Z"
   },
   {
    "duration": 3,
    "start_time": "2024-10-16T15:04:42.032Z"
   },
   {
    "duration": 2,
    "start_time": "2024-10-16T15:04:42.071Z"
   },
   {
    "duration": 2,
    "start_time": "2024-10-16T15:05:00.899Z"
   },
   {
    "duration": 149,
    "start_time": "2024-10-16T15:05:00.904Z"
   },
   {
    "duration": 12,
    "start_time": "2024-10-16T15:05:01.055Z"
   },
   {
    "duration": 23,
    "start_time": "2024-10-16T15:05:01.070Z"
   },
   {
    "duration": 3,
    "start_time": "2024-10-16T15:05:01.097Z"
   },
   {
    "duration": 9,
    "start_time": "2024-10-16T15:05:01.102Z"
   },
   {
    "duration": 4,
    "start_time": "2024-10-16T15:05:01.113Z"
   },
   {
    "duration": 55,
    "start_time": "2024-10-16T15:05:01.120Z"
   },
   {
    "duration": 23,
    "start_time": "2024-10-16T15:05:01.176Z"
   },
   {
    "duration": 18,
    "start_time": "2024-10-16T15:05:01.201Z"
   },
   {
    "duration": 69,
    "start_time": "2024-10-16T15:05:01.223Z"
   },
   {
    "duration": 57,
    "start_time": "2024-10-16T15:05:01.294Z"
   },
   {
    "duration": 61,
    "start_time": "2024-10-16T15:05:01.353Z"
   },
   {
    "duration": 39,
    "start_time": "2024-10-16T15:05:01.417Z"
   },
   {
    "duration": 15,
    "start_time": "2024-10-16T15:05:01.458Z"
   },
   {
    "duration": 4,
    "start_time": "2024-10-16T15:05:01.475Z"
   },
   {
    "duration": 17,
    "start_time": "2024-10-16T15:05:01.481Z"
   },
   {
    "duration": 32,
    "start_time": "2024-10-16T15:05:01.501Z"
   },
   {
    "duration": 35,
    "start_time": "2024-10-16T15:05:01.535Z"
   },
   {
    "duration": 3,
    "start_time": "2024-10-16T15:05:01.572Z"
   },
   {
    "duration": 2,
    "start_time": "2024-10-16T15:05:01.577Z"
   },
   {
    "duration": 4,
    "start_time": "2024-10-16T15:05:01.581Z"
   },
   {
    "duration": 3,
    "start_time": "2024-10-16T15:05:01.586Z"
   },
   {
    "duration": 3,
    "start_time": "2024-10-16T15:05:01.591Z"
   },
   {
    "duration": 7,
    "start_time": "2024-10-16T15:26:04.207Z"
   },
   {
    "duration": 8,
    "start_time": "2024-10-16T15:27:24.831Z"
   },
   {
    "duration": 10,
    "start_time": "2024-10-16T15:34:08.003Z"
   },
   {
    "duration": 8,
    "start_time": "2024-10-16T15:35:44.912Z"
   },
   {
    "duration": 10,
    "start_time": "2024-10-16T15:35:52.669Z"
   },
   {
    "duration": 6,
    "start_time": "2024-10-16T15:38:05.257Z"
   },
   {
    "duration": 7,
    "start_time": "2024-10-16T15:41:51.569Z"
   },
   {
    "duration": 10,
    "start_time": "2024-10-16T15:42:17.422Z"
   },
   {
    "duration": 10,
    "start_time": "2024-10-16T15:43:52.165Z"
   },
   {
    "duration": 7,
    "start_time": "2024-10-16T15:44:03.556Z"
   },
   {
    "duration": 5,
    "start_time": "2024-10-16T15:44:29.115Z"
   },
   {
    "duration": 35,
    "start_time": "2024-10-16T15:48:03.570Z"
   },
   {
    "duration": 84,
    "start_time": "2024-10-16T15:48:14.153Z"
   },
   {
    "duration": 17,
    "start_time": "2024-10-16T15:49:12.648Z"
   },
   {
    "duration": 6,
    "start_time": "2024-10-16T15:49:20.863Z"
   },
   {
    "duration": 14,
    "start_time": "2024-10-16T15:49:37.987Z"
   },
   {
    "duration": 6,
    "start_time": "2024-10-16T15:49:47.151Z"
   },
   {
    "duration": 17,
    "start_time": "2024-10-16T15:50:52.070Z"
   },
   {
    "duration": 14,
    "start_time": "2024-10-16T15:52:40.507Z"
   },
   {
    "duration": 15,
    "start_time": "2024-10-16T15:57:47.165Z"
   },
   {
    "duration": 5,
    "start_time": "2024-10-16T16:40:44.886Z"
   },
   {
    "duration": 3,
    "start_time": "2024-10-16T16:40:49.646Z"
   },
   {
    "duration": 9,
    "start_time": "2024-10-16T16:40:54.013Z"
   },
   {
    "duration": 251,
    "start_time": "2024-10-16T16:41:23.926Z"
   },
   {
    "duration": 2,
    "start_time": "2024-10-16T16:41:28.514Z"
   },
   {
    "duration": 116,
    "start_time": "2024-10-16T16:41:28.518Z"
   },
   {
    "duration": 11,
    "start_time": "2024-10-16T16:41:28.636Z"
   },
   {
    "duration": 33,
    "start_time": "2024-10-16T16:41:28.648Z"
   },
   {
    "duration": 3,
    "start_time": "2024-10-16T16:41:28.683Z"
   },
   {
    "duration": 7,
    "start_time": "2024-10-16T16:41:28.688Z"
   },
   {
    "duration": 5,
    "start_time": "2024-10-16T16:41:28.696Z"
   },
   {
    "duration": 26,
    "start_time": "2024-10-16T16:41:28.703Z"
   },
   {
    "duration": 60,
    "start_time": "2024-10-16T16:41:28.730Z"
   },
   {
    "duration": 21,
    "start_time": "2024-10-16T16:41:28.792Z"
   },
   {
    "duration": 73,
    "start_time": "2024-10-16T16:41:28.815Z"
   },
   {
    "duration": 54,
    "start_time": "2024-10-16T16:41:28.891Z"
   },
   {
    "duration": 60,
    "start_time": "2024-10-16T16:41:28.949Z"
   },
   {
    "duration": 38,
    "start_time": "2024-10-16T16:41:29.012Z"
   },
   {
    "duration": 21,
    "start_time": "2024-10-16T16:41:29.052Z"
   },
   {
    "duration": 7,
    "start_time": "2024-10-16T16:41:29.075Z"
   },
   {
    "duration": 24,
    "start_time": "2024-10-16T16:41:29.084Z"
   },
   {
    "duration": 39,
    "start_time": "2024-10-16T16:41:29.110Z"
   },
   {
    "duration": 22,
    "start_time": "2024-10-16T16:41:29.152Z"
   },
   {
    "duration": 10,
    "start_time": "2024-10-16T16:41:29.175Z"
   },
   {
    "duration": 7,
    "start_time": "2024-10-16T16:41:29.187Z"
   },
   {
    "duration": 10,
    "start_time": "2024-10-16T16:41:29.197Z"
   },
   {
    "duration": 91,
    "start_time": "2024-10-16T16:41:29.209Z"
   },
   {
    "duration": 0,
    "start_time": "2024-10-16T16:41:29.303Z"
   },
   {
    "duration": 2,
    "start_time": "2024-10-16T16:41:54.856Z"
   },
   {
    "duration": 114,
    "start_time": "2024-10-16T16:41:54.860Z"
   },
   {
    "duration": 10,
    "start_time": "2024-10-16T16:41:54.976Z"
   },
   {
    "duration": 22,
    "start_time": "2024-10-16T16:41:54.988Z"
   },
   {
    "duration": 3,
    "start_time": "2024-10-16T16:41:55.012Z"
   },
   {
    "duration": 6,
    "start_time": "2024-10-16T16:41:55.017Z"
   },
   {
    "duration": 3,
    "start_time": "2024-10-16T16:41:55.026Z"
   },
   {
    "duration": 48,
    "start_time": "2024-10-16T16:41:55.030Z"
   },
   {
    "duration": 24,
    "start_time": "2024-10-16T16:41:55.079Z"
   },
   {
    "duration": 17,
    "start_time": "2024-10-16T16:41:55.105Z"
   },
   {
    "duration": 56,
    "start_time": "2024-10-16T16:41:55.124Z"
   },
   {
    "duration": 47,
    "start_time": "2024-10-16T16:41:55.182Z"
   },
   {
    "duration": 59,
    "start_time": "2024-10-16T16:41:55.231Z"
   },
   {
    "duration": 34,
    "start_time": "2024-10-16T16:41:55.293Z"
   },
   {
    "duration": 6,
    "start_time": "2024-10-16T16:41:55.329Z"
   },
   {
    "duration": 3,
    "start_time": "2024-10-16T16:41:55.336Z"
   },
   {
    "duration": 38,
    "start_time": "2024-10-16T16:41:55.341Z"
   },
   {
    "duration": 31,
    "start_time": "2024-10-16T16:41:55.380Z"
   },
   {
    "duration": 8,
    "start_time": "2024-10-16T16:41:55.413Z"
   },
   {
    "duration": 7,
    "start_time": "2024-10-16T16:41:55.422Z"
   },
   {
    "duration": 5,
    "start_time": "2024-10-16T16:41:55.431Z"
   },
   {
    "duration": 36,
    "start_time": "2024-10-16T16:41:55.438Z"
   },
   {
    "duration": 47,
    "start_time": "2024-10-16T16:41:55.477Z"
   },
   {
    "duration": 0,
    "start_time": "2024-10-16T16:41:55.526Z"
   },
   {
    "duration": 37,
    "start_time": "2024-10-16T16:42:24.000Z"
   },
   {
    "duration": 6,
    "start_time": "2024-10-16T16:42:31.660Z"
   },
   {
    "duration": 6,
    "start_time": "2024-10-16T16:42:58.077Z"
   },
   {
    "duration": 9,
    "start_time": "2024-10-16T16:43:58.788Z"
   },
   {
    "duration": 6,
    "start_time": "2024-10-16T16:44:15.123Z"
   },
   {
    "duration": 2,
    "start_time": "2024-10-16T16:44:22.997Z"
   },
   {
    "duration": 112,
    "start_time": "2024-10-16T16:44:23.001Z"
   },
   {
    "duration": 11,
    "start_time": "2024-10-16T16:44:23.114Z"
   },
   {
    "duration": 22,
    "start_time": "2024-10-16T16:44:23.126Z"
   },
   {
    "duration": 4,
    "start_time": "2024-10-16T16:44:23.150Z"
   },
   {
    "duration": 18,
    "start_time": "2024-10-16T16:44:23.155Z"
   },
   {
    "duration": 4,
    "start_time": "2024-10-16T16:44:23.175Z"
   },
   {
    "duration": 19,
    "start_time": "2024-10-16T16:44:23.180Z"
   },
   {
    "duration": 24,
    "start_time": "2024-10-16T16:44:23.201Z"
   },
   {
    "duration": 46,
    "start_time": "2024-10-16T16:44:23.227Z"
   },
   {
    "duration": 41,
    "start_time": "2024-10-16T16:44:23.275Z"
   },
   {
    "duration": 63,
    "start_time": "2024-10-16T16:44:23.318Z"
   },
   {
    "duration": 43,
    "start_time": "2024-10-16T16:44:23.383Z"
   },
   {
    "duration": 45,
    "start_time": "2024-10-16T16:44:23.429Z"
   },
   {
    "duration": 6,
    "start_time": "2024-10-16T16:44:23.476Z"
   },
   {
    "duration": 4,
    "start_time": "2024-10-16T16:44:23.484Z"
   },
   {
    "duration": 17,
    "start_time": "2024-10-16T16:44:23.491Z"
   },
   {
    "duration": 34,
    "start_time": "2024-10-16T16:44:23.510Z"
   },
   {
    "duration": 32,
    "start_time": "2024-10-16T16:44:23.545Z"
   },
   {
    "duration": 7,
    "start_time": "2024-10-16T16:44:23.578Z"
   },
   {
    "duration": 7,
    "start_time": "2024-10-16T16:44:23.587Z"
   },
   {
    "duration": 20,
    "start_time": "2024-10-16T16:44:23.596Z"
   },
   {
    "duration": 278,
    "start_time": "2024-10-16T16:44:23.617Z"
   },
   {
    "duration": 0,
    "start_time": "2024-10-16T16:44:23.897Z"
   },
   {
    "duration": 6,
    "start_time": "2024-10-16T16:44:40.592Z"
   },
   {
    "duration": 17,
    "start_time": "2024-10-16T16:45:07.583Z"
   },
   {
    "duration": 18,
    "start_time": "2024-10-16T16:45:17.566Z"
   },
   {
    "duration": 6,
    "start_time": "2024-10-16T16:45:35.458Z"
   },
   {
    "duration": 50,
    "start_time": "2024-10-16T16:46:05.422Z"
   },
   {
    "duration": 3,
    "start_time": "2024-10-16T16:47:28.886Z"
   },
   {
    "duration": 126,
    "start_time": "2024-10-16T16:47:28.892Z"
   },
   {
    "duration": 10,
    "start_time": "2024-10-16T16:47:29.020Z"
   },
   {
    "duration": 21,
    "start_time": "2024-10-16T16:47:29.032Z"
   },
   {
    "duration": 16,
    "start_time": "2024-10-16T16:47:29.056Z"
   },
   {
    "duration": 6,
    "start_time": "2024-10-16T16:47:29.074Z"
   },
   {
    "duration": 4,
    "start_time": "2024-10-16T16:47:29.081Z"
   },
   {
    "duration": 18,
    "start_time": "2024-10-16T16:47:29.087Z"
   },
   {
    "duration": 23,
    "start_time": "2024-10-16T16:47:29.107Z"
   },
   {
    "duration": 47,
    "start_time": "2024-10-16T16:47:29.132Z"
   },
   {
    "duration": 38,
    "start_time": "2024-10-16T16:47:29.181Z"
   },
   {
    "duration": 56,
    "start_time": "2024-10-16T16:47:29.221Z"
   },
   {
    "duration": 43,
    "start_time": "2024-10-16T16:47:29.279Z"
   },
   {
    "duration": 49,
    "start_time": "2024-10-16T16:47:29.325Z"
   },
   {
    "duration": 6,
    "start_time": "2024-10-16T16:47:29.376Z"
   },
   {
    "duration": 3,
    "start_time": "2024-10-16T16:47:29.383Z"
   },
   {
    "duration": 14,
    "start_time": "2024-10-16T16:47:29.387Z"
   },
   {
    "duration": 33,
    "start_time": "2024-10-16T16:47:29.403Z"
   },
   {
    "duration": 37,
    "start_time": "2024-10-16T16:47:29.438Z"
   },
   {
    "duration": 7,
    "start_time": "2024-10-16T16:47:29.477Z"
   },
   {
    "duration": 6,
    "start_time": "2024-10-16T16:47:29.486Z"
   },
   {
    "duration": 22,
    "start_time": "2024-10-16T16:47:29.494Z"
   },
   {
    "duration": 16,
    "start_time": "2024-10-16T16:47:29.517Z"
   },
   {
    "duration": 2,
    "start_time": "2024-10-16T16:47:29.534Z"
   },
   {
    "duration": 7,
    "start_time": "2024-10-16T16:48:19.954Z"
   },
   {
    "duration": 2,
    "start_time": "2024-10-16T16:48:23.167Z"
   },
   {
    "duration": 126,
    "start_time": "2024-10-16T16:48:23.172Z"
   },
   {
    "duration": 10,
    "start_time": "2024-10-16T16:48:23.300Z"
   },
   {
    "duration": 22,
    "start_time": "2024-10-16T16:48:23.311Z"
   },
   {
    "duration": 3,
    "start_time": "2024-10-16T16:48:23.335Z"
   },
   {
    "duration": 5,
    "start_time": "2024-10-16T16:48:23.340Z"
   },
   {
    "duration": 26,
    "start_time": "2024-10-16T16:48:23.346Z"
   },
   {
    "duration": 18,
    "start_time": "2024-10-16T16:48:23.373Z"
   },
   {
    "duration": 29,
    "start_time": "2024-10-16T16:48:23.393Z"
   },
   {
    "duration": 24,
    "start_time": "2024-10-16T16:48:23.423Z"
   },
   {
    "duration": 39,
    "start_time": "2024-10-16T16:48:23.471Z"
   },
   {
    "duration": 44,
    "start_time": "2024-10-16T16:48:23.511Z"
   },
   {
    "duration": 42,
    "start_time": "2024-10-16T16:48:23.571Z"
   },
   {
    "duration": 35,
    "start_time": "2024-10-16T16:48:23.615Z"
   },
   {
    "duration": 22,
    "start_time": "2024-10-16T16:48:23.653Z"
   },
   {
    "duration": 3,
    "start_time": "2024-10-16T16:48:23.677Z"
   },
   {
    "duration": 14,
    "start_time": "2024-10-16T16:48:23.682Z"
   },
   {
    "duration": 32,
    "start_time": "2024-10-16T16:48:23.698Z"
   },
   {
    "duration": 8,
    "start_time": "2024-10-16T16:48:23.732Z"
   },
   {
    "duration": 33,
    "start_time": "2024-10-16T16:48:23.741Z"
   },
   {
    "duration": 6,
    "start_time": "2024-10-16T16:48:23.775Z"
   },
   {
    "duration": 23,
    "start_time": "2024-10-16T16:48:23.783Z"
   },
   {
    "duration": 13,
    "start_time": "2024-10-16T16:48:23.807Z"
   },
   {
    "duration": 2,
    "start_time": "2024-10-16T16:48:23.822Z"
   },
   {
    "duration": 2,
    "start_time": "2024-10-16T16:48:51.229Z"
   },
   {
    "duration": 112,
    "start_time": "2024-10-16T16:48:51.233Z"
   },
   {
    "duration": 10,
    "start_time": "2024-10-16T16:48:51.347Z"
   },
   {
    "duration": 22,
    "start_time": "2024-10-16T16:48:51.370Z"
   },
   {
    "duration": 3,
    "start_time": "2024-10-16T16:48:51.395Z"
   },
   {
    "duration": 7,
    "start_time": "2024-10-16T16:48:51.401Z"
   },
   {
    "duration": 4,
    "start_time": "2024-10-16T16:48:51.409Z"
   },
   {
    "duration": 19,
    "start_time": "2024-10-16T16:48:51.415Z"
   },
   {
    "duration": 52,
    "start_time": "2024-10-16T16:48:51.435Z"
   },
   {
    "duration": 17,
    "start_time": "2024-10-16T16:48:51.489Z"
   },
   {
    "duration": 40,
    "start_time": "2024-10-16T16:48:51.508Z"
   },
   {
    "duration": 76,
    "start_time": "2024-10-16T16:48:51.550Z"
   },
   {
    "duration": 55,
    "start_time": "2024-10-16T16:48:51.627Z"
   },
   {
    "duration": 37,
    "start_time": "2024-10-16T16:48:51.684Z"
   },
   {
    "duration": 6,
    "start_time": "2024-10-16T16:48:51.722Z"
   },
   {
    "duration": 2,
    "start_time": "2024-10-16T16:48:51.730Z"
   },
   {
    "duration": 36,
    "start_time": "2024-10-16T16:48:51.735Z"
   },
   {
    "duration": 32,
    "start_time": "2024-10-16T16:48:51.772Z"
   },
   {
    "duration": 9,
    "start_time": "2024-10-16T16:48:51.805Z"
   },
   {
    "duration": 8,
    "start_time": "2024-10-16T16:48:51.815Z"
   },
   {
    "duration": 6,
    "start_time": "2024-10-16T16:48:51.824Z"
   },
   {
    "duration": 43,
    "start_time": "2024-10-16T16:48:51.831Z"
   },
   {
    "duration": 16,
    "start_time": "2024-10-16T16:48:51.876Z"
   },
   {
    "duration": 2,
    "start_time": "2024-10-16T16:48:51.894Z"
   },
   {
    "duration": 3,
    "start_time": "2024-10-16T16:49:09.548Z"
   },
   {
    "duration": 114,
    "start_time": "2024-10-16T16:49:09.553Z"
   },
   {
    "duration": 10,
    "start_time": "2024-10-16T16:49:09.669Z"
   },
   {
    "duration": 21,
    "start_time": "2024-10-16T16:49:09.681Z"
   },
   {
    "duration": 3,
    "start_time": "2024-10-16T16:49:09.705Z"
   },
   {
    "duration": 5,
    "start_time": "2024-10-16T16:49:09.710Z"
   },
   {
    "duration": 4,
    "start_time": "2024-10-16T16:49:09.717Z"
   },
   {
    "duration": 52,
    "start_time": "2024-10-16T16:49:09.723Z"
   },
   {
    "duration": 23,
    "start_time": "2024-10-16T16:49:09.777Z"
   },
   {
    "duration": 18,
    "start_time": "2024-10-16T16:49:09.802Z"
   },
   {
    "duration": 59,
    "start_time": "2024-10-16T16:49:09.823Z"
   },
   {
    "duration": 43,
    "start_time": "2024-10-16T16:49:09.884Z"
   },
   {
    "duration": 53,
    "start_time": "2024-10-16T16:49:09.929Z"
   },
   {
    "duration": 36,
    "start_time": "2024-10-16T16:49:09.984Z"
   },
   {
    "duration": 6,
    "start_time": "2024-10-16T16:49:10.022Z"
   },
   {
    "duration": 3,
    "start_time": "2024-10-16T16:49:10.030Z"
   },
   {
    "duration": 36,
    "start_time": "2024-10-16T16:49:10.034Z"
   },
   {
    "duration": 32,
    "start_time": "2024-10-16T16:49:10.072Z"
   },
   {
    "duration": 8,
    "start_time": "2024-10-16T16:49:10.106Z"
   },
   {
    "duration": 7,
    "start_time": "2024-10-16T16:49:10.116Z"
   },
   {
    "duration": 8,
    "start_time": "2024-10-16T16:49:10.125Z"
   },
   {
    "duration": 52,
    "start_time": "2024-10-16T16:49:10.136Z"
   },
   {
    "duration": 13,
    "start_time": "2024-10-16T16:49:10.190Z"
   },
   {
    "duration": 4,
    "start_time": "2024-10-16T16:49:10.204Z"
   },
   {
    "duration": 2,
    "start_time": "2024-10-16T16:49:41.608Z"
   },
   {
    "duration": 116,
    "start_time": "2024-10-16T16:49:41.612Z"
   },
   {
    "duration": 12,
    "start_time": "2024-10-16T16:49:41.730Z"
   },
   {
    "duration": 27,
    "start_time": "2024-10-16T16:49:41.744Z"
   },
   {
    "duration": 4,
    "start_time": "2024-10-16T16:49:41.773Z"
   },
   {
    "duration": 6,
    "start_time": "2024-10-16T16:49:41.779Z"
   },
   {
    "duration": 4,
    "start_time": "2024-10-16T16:49:41.786Z"
   },
   {
    "duration": 19,
    "start_time": "2024-10-16T16:49:41.791Z"
   },
   {
    "duration": 23,
    "start_time": "2024-10-16T16:49:41.814Z"
   },
   {
    "duration": 19,
    "start_time": "2024-10-16T16:49:41.871Z"
   },
   {
    "duration": 40,
    "start_time": "2024-10-16T16:49:41.892Z"
   },
   {
    "duration": 60,
    "start_time": "2024-10-16T16:49:41.933Z"
   },
   {
    "duration": 41,
    "start_time": "2024-10-16T16:49:41.995Z"
   },
   {
    "duration": 47,
    "start_time": "2024-10-16T16:49:42.038Z"
   },
   {
    "duration": 5,
    "start_time": "2024-10-16T16:49:42.087Z"
   },
   {
    "duration": 3,
    "start_time": "2024-10-16T16:49:42.094Z"
   },
   {
    "duration": 14,
    "start_time": "2024-10-16T16:49:42.099Z"
   },
   {
    "duration": 57,
    "start_time": "2024-10-16T16:49:42.114Z"
   },
   {
    "duration": 9,
    "start_time": "2024-10-16T16:49:42.172Z"
   },
   {
    "duration": 13,
    "start_time": "2024-10-16T16:49:42.182Z"
   },
   {
    "duration": 7,
    "start_time": "2024-10-16T16:49:42.196Z"
   },
   {
    "duration": 22,
    "start_time": "2024-10-16T16:49:42.205Z"
   },
   {
    "duration": 13,
    "start_time": "2024-10-16T16:49:42.228Z"
   },
   {
    "duration": 2,
    "start_time": "2024-10-16T16:49:42.272Z"
   },
   {
    "duration": 8,
    "start_time": "2024-10-16T16:50:26.187Z"
   },
   {
    "duration": 2,
    "start_time": "2024-10-16T16:50:31.559Z"
   },
   {
    "duration": 121,
    "start_time": "2024-10-16T16:50:31.563Z"
   },
   {
    "duration": 10,
    "start_time": "2024-10-16T16:50:31.685Z"
   },
   {
    "duration": 21,
    "start_time": "2024-10-16T16:50:31.697Z"
   },
   {
    "duration": 3,
    "start_time": "2024-10-16T16:50:31.721Z"
   },
   {
    "duration": 5,
    "start_time": "2024-10-16T16:50:31.726Z"
   },
   {
    "duration": 4,
    "start_time": "2024-10-16T16:50:31.732Z"
   },
   {
    "duration": 48,
    "start_time": "2024-10-16T16:50:31.738Z"
   },
   {
    "duration": 23,
    "start_time": "2024-10-16T16:50:31.787Z"
   },
   {
    "duration": 18,
    "start_time": "2024-10-16T16:50:31.812Z"
   },
   {
    "duration": 60,
    "start_time": "2024-10-16T16:50:31.831Z"
   },
   {
    "duration": 44,
    "start_time": "2024-10-16T16:50:31.893Z"
   },
   {
    "duration": 61,
    "start_time": "2024-10-16T16:50:31.941Z"
   },
   {
    "duration": 46,
    "start_time": "2024-10-16T16:50:32.003Z"
   },
   {
    "duration": 6,
    "start_time": "2024-10-16T16:50:32.051Z"
   },
   {
    "duration": 15,
    "start_time": "2024-10-16T16:50:32.058Z"
   },
   {
    "duration": 15,
    "start_time": "2024-10-16T16:50:32.075Z"
   },
   {
    "duration": 31,
    "start_time": "2024-10-16T16:50:32.091Z"
   },
   {
    "duration": 8,
    "start_time": "2024-10-16T16:50:32.124Z"
   },
   {
    "duration": 8,
    "start_time": "2024-10-16T16:50:32.134Z"
   },
   {
    "duration": 31,
    "start_time": "2024-10-16T16:50:32.144Z"
   },
   {
    "duration": 21,
    "start_time": "2024-10-16T16:50:32.177Z"
   },
   {
    "duration": 12,
    "start_time": "2024-10-16T16:50:32.199Z"
   },
   {
    "duration": 3,
    "start_time": "2024-10-16T16:50:32.213Z"
   },
   {
    "duration": 2,
    "start_time": "2024-10-16T16:52:56.947Z"
   },
   {
    "duration": 114,
    "start_time": "2024-10-16T16:52:56.951Z"
   },
   {
    "duration": 10,
    "start_time": "2024-10-16T16:52:57.067Z"
   },
   {
    "duration": 23,
    "start_time": "2024-10-16T16:52:57.079Z"
   },
   {
    "duration": 3,
    "start_time": "2024-10-16T16:52:57.105Z"
   },
   {
    "duration": 5,
    "start_time": "2024-10-16T16:52:57.110Z"
   },
   {
    "duration": 3,
    "start_time": "2024-10-16T16:52:57.117Z"
   },
   {
    "duration": 49,
    "start_time": "2024-10-16T16:52:57.122Z"
   },
   {
    "duration": 27,
    "start_time": "2024-10-16T16:52:57.173Z"
   },
   {
    "duration": 20,
    "start_time": "2024-10-16T16:52:57.202Z"
   },
   {
    "duration": 56,
    "start_time": "2024-10-16T16:52:57.224Z"
   },
   {
    "duration": 43,
    "start_time": "2024-10-16T16:52:57.281Z"
   },
   {
    "duration": 53,
    "start_time": "2024-10-16T16:52:57.326Z"
   },
   {
    "duration": 36,
    "start_time": "2024-10-16T16:52:57.382Z"
   },
   {
    "duration": 6,
    "start_time": "2024-10-16T16:52:57.420Z"
   },
   {
    "duration": 3,
    "start_time": "2024-10-16T16:52:57.428Z"
   },
   {
    "duration": 39,
    "start_time": "2024-10-16T16:52:57.433Z"
   },
   {
    "duration": 31,
    "start_time": "2024-10-16T16:52:57.473Z"
   },
   {
    "duration": 8,
    "start_time": "2024-10-16T16:52:57.506Z"
   },
   {
    "duration": 7,
    "start_time": "2024-10-16T16:52:57.515Z"
   },
   {
    "duration": 6,
    "start_time": "2024-10-16T16:52:57.524Z"
   },
   {
    "duration": 47,
    "start_time": "2024-10-16T16:52:57.531Z"
   },
   {
    "duration": 12,
    "start_time": "2024-10-16T16:52:57.579Z"
   },
   {
    "duration": 2,
    "start_time": "2024-10-16T16:52:57.592Z"
   },
   {
    "duration": 2,
    "start_time": "2024-10-16T16:53:22.150Z"
   },
   {
    "duration": 111,
    "start_time": "2024-10-16T16:53:22.155Z"
   },
   {
    "duration": 9,
    "start_time": "2024-10-16T16:53:22.268Z"
   },
   {
    "duration": 21,
    "start_time": "2024-10-16T16:53:22.281Z"
   },
   {
    "duration": 3,
    "start_time": "2024-10-16T16:53:22.303Z"
   },
   {
    "duration": 5,
    "start_time": "2024-10-16T16:53:22.308Z"
   },
   {
    "duration": 3,
    "start_time": "2024-10-16T16:53:22.315Z"
   },
   {
    "duration": 54,
    "start_time": "2024-10-16T16:53:22.320Z"
   },
   {
    "duration": 24,
    "start_time": "2024-10-16T16:53:22.377Z"
   },
   {
    "duration": 18,
    "start_time": "2024-10-16T16:53:22.402Z"
   },
   {
    "duration": 61,
    "start_time": "2024-10-16T16:53:22.422Z"
   },
   {
    "duration": 44,
    "start_time": "2024-10-16T16:53:22.484Z"
   },
   {
    "duration": 52,
    "start_time": "2024-10-16T16:53:22.530Z"
   },
   {
    "duration": 35,
    "start_time": "2024-10-16T16:53:22.584Z"
   },
   {
    "duration": 5,
    "start_time": "2024-10-16T16:53:22.621Z"
   },
   {
    "duration": 2,
    "start_time": "2024-10-16T16:53:22.628Z"
   },
   {
    "duration": 14,
    "start_time": "2024-10-16T16:53:22.632Z"
   },
   {
    "duration": 51,
    "start_time": "2024-10-16T16:53:22.648Z"
   },
   {
    "duration": 8,
    "start_time": "2024-10-16T16:53:22.700Z"
   },
   {
    "duration": 7,
    "start_time": "2024-10-16T16:53:22.710Z"
   },
   {
    "duration": 5,
    "start_time": "2024-10-16T16:53:22.719Z"
   },
   {
    "duration": 50,
    "start_time": "2024-10-16T16:53:22.726Z"
   },
   {
    "duration": 15,
    "start_time": "2024-10-16T16:53:22.778Z"
   },
   {
    "duration": 2,
    "start_time": "2024-10-16T16:53:22.797Z"
   },
   {
    "duration": 3,
    "start_time": "2024-10-16T16:53:51.609Z"
   },
   {
    "duration": 112,
    "start_time": "2024-10-16T16:53:51.614Z"
   },
   {
    "duration": 9,
    "start_time": "2024-10-16T16:53:51.728Z"
   },
   {
    "duration": 32,
    "start_time": "2024-10-16T16:53:51.739Z"
   },
   {
    "duration": 4,
    "start_time": "2024-10-16T16:53:51.773Z"
   },
   {
    "duration": 7,
    "start_time": "2024-10-16T16:53:51.778Z"
   },
   {
    "duration": 4,
    "start_time": "2024-10-16T16:53:51.786Z"
   },
   {
    "duration": 18,
    "start_time": "2024-10-16T16:53:51.793Z"
   },
   {
    "duration": 23,
    "start_time": "2024-10-16T16:53:51.813Z"
   },
   {
    "duration": 48,
    "start_time": "2024-10-16T16:53:51.838Z"
   },
   {
    "duration": 40,
    "start_time": "2024-10-16T16:53:51.888Z"
   },
   {
    "duration": 60,
    "start_time": "2024-10-16T16:53:51.930Z"
   },
   {
    "duration": 40,
    "start_time": "2024-10-16T16:53:51.992Z"
   },
   {
    "duration": 48,
    "start_time": "2024-10-16T16:53:52.035Z"
   },
   {
    "duration": 6,
    "start_time": "2024-10-16T16:53:52.085Z"
   },
   {
    "duration": 3,
    "start_time": "2024-10-16T16:53:52.093Z"
   },
   {
    "duration": 15,
    "start_time": "2024-10-16T16:53:52.097Z"
   },
   {
    "duration": 31,
    "start_time": "2024-10-16T16:53:52.113Z"
   },
   {
    "duration": 27,
    "start_time": "2024-10-16T16:53:52.146Z"
   },
   {
    "duration": 8,
    "start_time": "2024-10-16T16:53:52.175Z"
   },
   {
    "duration": 5,
    "start_time": "2024-10-16T16:53:52.184Z"
   },
   {
    "duration": 0,
    "start_time": "2024-10-16T16:53:52.190Z"
   },
   {
    "duration": 0,
    "start_time": "2024-10-16T16:53:52.191Z"
   },
   {
    "duration": 0,
    "start_time": "2024-10-16T16:53:52.192Z"
   },
   {
    "duration": 7,
    "start_time": "2024-10-16T16:54:11.412Z"
   },
   {
    "duration": 24,
    "start_time": "2024-10-16T16:59:22.806Z"
   },
   {
    "duration": 2,
    "start_time": "2024-10-16T16:59:42.504Z"
   },
   {
    "duration": 113,
    "start_time": "2024-10-16T16:59:42.509Z"
   },
   {
    "duration": 10,
    "start_time": "2024-10-16T16:59:42.624Z"
   },
   {
    "duration": 22,
    "start_time": "2024-10-16T16:59:42.635Z"
   },
   {
    "duration": 13,
    "start_time": "2024-10-16T16:59:42.659Z"
   },
   {
    "duration": 5,
    "start_time": "2024-10-16T16:59:42.673Z"
   },
   {
    "duration": 3,
    "start_time": "2024-10-16T16:59:42.680Z"
   },
   {
    "duration": 18,
    "start_time": "2024-10-16T16:59:42.684Z"
   },
   {
    "duration": 23,
    "start_time": "2024-10-16T16:59:42.705Z"
   },
   {
    "duration": 45,
    "start_time": "2024-10-16T16:59:42.730Z"
   },
   {
    "duration": 42,
    "start_time": "2024-10-16T16:59:42.778Z"
   },
   {
    "duration": 60,
    "start_time": "2024-10-16T16:59:42.822Z"
   },
   {
    "duration": 41,
    "start_time": "2024-10-16T16:59:42.884Z"
   },
   {
    "duration": 52,
    "start_time": "2024-10-16T16:59:42.928Z"
   },
   {
    "duration": 5,
    "start_time": "2024-10-16T16:59:42.982Z"
   },
   {
    "duration": 4,
    "start_time": "2024-10-16T16:59:42.989Z"
   },
   {
    "duration": 17,
    "start_time": "2024-10-16T16:59:42.995Z"
   },
   {
    "duration": 31,
    "start_time": "2024-10-16T16:59:43.014Z"
   },
   {
    "duration": 30,
    "start_time": "2024-10-16T16:59:43.046Z"
   },
   {
    "duration": 7,
    "start_time": "2024-10-16T16:59:43.077Z"
   },
   {
    "duration": 7,
    "start_time": "2024-10-16T16:59:43.086Z"
   },
   {
    "duration": 20,
    "start_time": "2024-10-16T16:59:43.095Z"
   },
   {
    "duration": 11,
    "start_time": "2024-10-16T16:59:43.117Z"
   },
   {
    "duration": 2,
    "start_time": "2024-10-16T16:59:43.130Z"
   },
   {
    "duration": 12,
    "start_time": "2024-10-16T17:16:46.216Z"
   },
   {
    "duration": 14,
    "start_time": "2024-10-16T17:16:52.579Z"
   },
   {
    "duration": 13,
    "start_time": "2024-10-16T17:17:02.723Z"
   },
   {
    "duration": 14,
    "start_time": "2024-10-16T17:17:45.128Z"
   },
   {
    "duration": 6,
    "start_time": "2024-10-16T17:20:44.154Z"
   },
   {
    "duration": 8,
    "start_time": "2024-10-16T17:20:45.566Z"
   },
   {
    "duration": 6,
    "start_time": "2024-10-16T17:20:47.710Z"
   },
   {
    "duration": 6,
    "start_time": "2024-10-16T17:21:14.166Z"
   },
   {
    "duration": 6,
    "start_time": "2024-10-16T17:21:18.748Z"
   },
   {
    "duration": 18,
    "start_time": "2024-10-16T17:21:59.325Z"
   },
   {
    "duration": 13,
    "start_time": "2024-10-16T17:22:19.773Z"
   },
   {
    "duration": 4,
    "start_time": "2024-10-16T17:23:00.205Z"
   },
   {
    "duration": 3,
    "start_time": "2024-10-16T17:23:52.643Z"
   },
   {
    "duration": 4,
    "start_time": "2024-10-16T17:25:05.918Z"
   },
   {
    "duration": 39,
    "start_time": "2024-10-16T17:25:52.348Z"
   },
   {
    "duration": 2,
    "start_time": "2024-10-16T17:27:50.957Z"
   },
   {
    "duration": 111,
    "start_time": "2024-10-16T17:27:50.961Z"
   },
   {
    "duration": 11,
    "start_time": "2024-10-16T17:27:51.074Z"
   },
   {
    "duration": 22,
    "start_time": "2024-10-16T17:27:51.086Z"
   },
   {
    "duration": 3,
    "start_time": "2024-10-16T17:27:51.110Z"
   },
   {
    "duration": 5,
    "start_time": "2024-10-16T17:27:51.115Z"
   },
   {
    "duration": 3,
    "start_time": "2024-10-16T17:27:51.121Z"
   },
   {
    "duration": 47,
    "start_time": "2024-10-16T17:27:51.127Z"
   },
   {
    "duration": 23,
    "start_time": "2024-10-16T17:27:51.176Z"
   },
   {
    "duration": 17,
    "start_time": "2024-10-16T17:27:51.201Z"
   },
   {
    "duration": 60,
    "start_time": "2024-10-16T17:27:51.220Z"
   },
   {
    "duration": 46,
    "start_time": "2024-10-16T17:27:51.282Z"
   },
   {
    "duration": 54,
    "start_time": "2024-10-16T17:27:51.329Z"
   },
   {
    "duration": 35,
    "start_time": "2024-10-16T17:27:51.387Z"
   },
   {
    "duration": 6,
    "start_time": "2024-10-16T17:27:51.424Z"
   },
   {
    "duration": 4,
    "start_time": "2024-10-16T17:27:51.431Z"
   },
   {
    "duration": 43,
    "start_time": "2024-10-16T17:27:51.436Z"
   },
   {
    "duration": 32,
    "start_time": "2024-10-16T17:27:51.480Z"
   },
   {
    "duration": 7,
    "start_time": "2024-10-16T17:27:51.513Z"
   },
   {
    "duration": 7,
    "start_time": "2024-10-16T17:27:51.522Z"
   },
   {
    "duration": 7,
    "start_time": "2024-10-16T17:27:51.530Z"
   },
   {
    "duration": 61,
    "start_time": "2024-10-16T17:27:51.538Z"
   },
   {
    "duration": 15,
    "start_time": "2024-10-16T17:27:51.600Z"
   },
   {
    "duration": 5,
    "start_time": "2024-10-16T17:27:51.617Z"
   },
   {
    "duration": 6,
    "start_time": "2024-10-16T17:31:30.725Z"
   },
   {
    "duration": 8,
    "start_time": "2024-10-16T17:31:55.092Z"
   },
   {
    "duration": 8,
    "start_time": "2024-10-16T17:31:58.228Z"
   },
   {
    "duration": 3,
    "start_time": "2024-10-16T17:32:34.808Z"
   },
   {
    "duration": 6,
    "start_time": "2024-10-16T17:32:49.581Z"
   },
   {
    "duration": 6,
    "start_time": "2024-10-16T17:33:07.836Z"
   },
   {
    "duration": 7,
    "start_time": "2024-10-16T17:33:17.488Z"
   },
   {
    "duration": 7,
    "start_time": "2024-10-16T17:33:33.420Z"
   },
   {
    "duration": 7,
    "start_time": "2024-10-16T17:33:57.734Z"
   },
   {
    "duration": 7,
    "start_time": "2024-10-16T17:34:03.047Z"
   },
   {
    "duration": 6,
    "start_time": "2024-10-16T17:34:06.393Z"
   },
   {
    "duration": 3,
    "start_time": "2024-10-16T17:34:34.489Z"
   },
   {
    "duration": 2,
    "start_time": "2024-10-16T17:35:40.236Z"
   },
   {
    "duration": 115,
    "start_time": "2024-10-16T17:35:40.240Z"
   },
   {
    "duration": 13,
    "start_time": "2024-10-16T17:35:40.357Z"
   },
   {
    "duration": 22,
    "start_time": "2024-10-16T17:35:40.371Z"
   },
   {
    "duration": 3,
    "start_time": "2024-10-16T17:35:40.395Z"
   },
   {
    "duration": 6,
    "start_time": "2024-10-16T17:35:40.400Z"
   },
   {
    "duration": 4,
    "start_time": "2024-10-16T17:35:40.407Z"
   },
   {
    "duration": 18,
    "start_time": "2024-10-16T17:35:40.413Z"
   },
   {
    "duration": 56,
    "start_time": "2024-10-16T17:35:40.432Z"
   },
   {
    "duration": 17,
    "start_time": "2024-10-16T17:35:40.490Z"
   },
   {
    "duration": 40,
    "start_time": "2024-10-16T17:35:40.511Z"
   },
   {
    "duration": 45,
    "start_time": "2024-10-16T17:35:40.569Z"
   },
   {
    "duration": 55,
    "start_time": "2024-10-16T17:35:40.616Z"
   },
   {
    "duration": 37,
    "start_time": "2024-10-16T17:35:40.672Z"
   },
   {
    "duration": 6,
    "start_time": "2024-10-16T17:35:40.711Z"
   },
   {
    "duration": 4,
    "start_time": "2024-10-16T17:35:40.718Z"
   },
   {
    "duration": 46,
    "start_time": "2024-10-16T17:35:40.724Z"
   },
   {
    "duration": 32,
    "start_time": "2024-10-16T17:35:40.772Z"
   },
   {
    "duration": 9,
    "start_time": "2024-10-16T17:35:40.805Z"
   },
   {
    "duration": 7,
    "start_time": "2024-10-16T17:35:40.817Z"
   },
   {
    "duration": 7,
    "start_time": "2024-10-16T17:35:40.826Z"
   },
   {
    "duration": 45,
    "start_time": "2024-10-16T17:35:40.834Z"
   },
   {
    "duration": 11,
    "start_time": "2024-10-16T17:35:40.881Z"
   },
   {
    "duration": 4,
    "start_time": "2024-10-16T17:35:40.893Z"
   },
   {
    "duration": 5,
    "start_time": "2024-10-16T17:35:40.899Z"
   },
   {
    "duration": 8,
    "start_time": "2024-10-16T17:35:40.906Z"
   },
   {
    "duration": 3,
    "start_time": "2024-10-16T17:35:40.915Z"
   },
   {
    "duration": 7,
    "start_time": "2024-10-16T17:36:21.255Z"
   },
   {
    "duration": 2,
    "start_time": "2024-10-16T17:36:37.078Z"
   },
   {
    "duration": 122,
    "start_time": "2024-10-16T17:36:37.082Z"
   },
   {
    "duration": 10,
    "start_time": "2024-10-16T17:36:37.206Z"
   },
   {
    "duration": 21,
    "start_time": "2024-10-16T17:36:37.218Z"
   },
   {
    "duration": 4,
    "start_time": "2024-10-16T17:36:37.242Z"
   },
   {
    "duration": 28,
    "start_time": "2024-10-16T17:36:37.247Z"
   },
   {
    "duration": 3,
    "start_time": "2024-10-16T17:36:37.277Z"
   },
   {
    "duration": 18,
    "start_time": "2024-10-16T17:36:37.282Z"
   },
   {
    "duration": 23,
    "start_time": "2024-10-16T17:36:37.302Z"
   },
   {
    "duration": 44,
    "start_time": "2024-10-16T17:36:37.327Z"
   },
   {
    "duration": 40,
    "start_time": "2024-10-16T17:36:37.373Z"
   },
   {
    "duration": 57,
    "start_time": "2024-10-16T17:36:37.415Z"
   },
   {
    "duration": 41,
    "start_time": "2024-10-16T17:36:37.474Z"
   },
   {
    "duration": 55,
    "start_time": "2024-10-16T17:36:37.519Z"
   },
   {
    "duration": 7,
    "start_time": "2024-10-16T17:36:37.576Z"
   },
   {
    "duration": 4,
    "start_time": "2024-10-16T17:36:37.584Z"
   },
   {
    "duration": 19,
    "start_time": "2024-10-16T17:36:37.589Z"
   },
   {
    "duration": 31,
    "start_time": "2024-10-16T17:36:37.609Z"
   },
   {
    "duration": 32,
    "start_time": "2024-10-16T17:36:37.641Z"
   },
   {
    "duration": 8,
    "start_time": "2024-10-16T17:36:37.675Z"
   },
   {
    "duration": 7,
    "start_time": "2024-10-16T17:36:37.685Z"
   },
   {
    "duration": 20,
    "start_time": "2024-10-16T17:36:37.693Z"
   },
   {
    "duration": 11,
    "start_time": "2024-10-16T17:36:37.714Z"
   },
   {
    "duration": 5,
    "start_time": "2024-10-16T17:36:37.726Z"
   },
   {
    "duration": 41,
    "start_time": "2024-10-16T17:36:37.733Z"
   },
   {
    "duration": 7,
    "start_time": "2024-10-16T17:36:37.775Z"
   },
   {
    "duration": 7,
    "start_time": "2024-10-16T17:36:37.784Z"
   }
  ],
  "kernelspec": {
   "display_name": "Python 3 (ipykernel)",
   "language": "python",
   "name": "python3"
  },
  "language_info": {
   "codemirror_mode": {
    "name": "ipython",
    "version": 3
   },
   "file_extension": ".py",
   "mimetype": "text/x-python",
   "name": "python",
   "nbconvert_exporter": "python",
   "pygments_lexer": "ipython3",
   "version": "3.9.19"
  },
  "toc": {
   "base_numbering": 1,
   "nav_menu": {},
   "number_sections": true,
   "sideBar": true,
   "skip_h1_title": true,
   "title_cell": "Table of Contents",
   "title_sidebar": "Contents",
   "toc_cell": false,
   "toc_position": {},
   "toc_section_display": true,
   "toc_window_display": false
  }
 },
 "nbformat": 4,
 "nbformat_minor": 5
}
